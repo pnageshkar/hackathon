{
 "cells": [
  {
   "cell_type": "markdown",
   "metadata": {},
   "source": [
    "## Loan Delinquency Prediction\n",
    "\n",
    "Loan default prediction is one of the most critical and crucial problem faced by financial institutions and organizations as it has a noteworthy effect on the profitability of these institutions. In recent years, there is a tremendous increase in the volume of non – performing loans which results in a jeopardizing effect on the growth of these institutions.\n",
    " \n",
    "Therefore, to maintain a healthy portfolio, the banks put stringent monitoring and evaluation measures in place to ensure timely repayment of loans by borrowers. Despite these measures, a major proportion of loans become delinquent. Delinquency occurs when a borrower misses a payment against his/her loan.\n",
    " \n",
    "Given the information like mortgage details, borrowers related details and payment details, our objective is to identify the delinquency status of loans for the next month given the delinquency status for the previous 12 months (in number of months)\n"
   ]
  },
  {
   "cell_type": "code",
   "execution_count": 2,
   "metadata": {},
   "outputs": [],
   "source": [
    "# to handle datasets\n",
    "import pandas as pd\n",
    "import numpy as np\n",
    "\n",
    "# for text / string processing\n",
    "import re\n",
    "\n",
    "# for plotting\n",
    "import matplotlib.pyplot as plt\n",
    "import seaborn as sns\n",
    "%matplotlib inline\n",
    "\n",
    "# to divide train and test set\n",
    "from sklearn.model_selection import train_test_split\n",
    "\n",
    "# Oversampling functions for handling imbalance datasets\n",
    "from imblearn.over_sampling import ADASYN\n",
    "from imblearn.over_sampling import (SMOTE, BorderlineSMOTE, SVMSMOTE, SMOTENC,\n",
    "                                    KMeansSMOTE)\n",
    "from imblearn.over_sampling import RandomOverSampler\n",
    "from imblearn.base import BaseSampler\n",
    "\n",
    "\n",
    "\n",
    "# feature scaling\n",
    "from sklearn.preprocessing import MinMaxScaler,StandardScaler\n",
    "\n",
    "# for tree binarisation\n",
    "from sklearn.tree import DecisionTreeClassifier\n",
    "from sklearn.model_selection import cross_val_score\n",
    "\n",
    "\n",
    "# to build the models\n",
    "from sklearn.linear_model import LogisticRegression\n",
    "from sklearn.ensemble import AdaBoostClassifier\n",
    "from sklearn.ensemble import RandomForestClassifier\n",
    "import xgboost as xgb\n",
    "from xgboost import XGBClassifier\n",
    "\n",
    "# to evaluate the models\n",
    "from sklearn.metrics import roc_auc_score,f1_score,accuracy_score,make_scorer\n",
    "from sklearn.model_selection import GridSearchCV\n",
    "\n",
    "pd.pandas.set_option('display.max_columns', None)\n",
    "\n",
    "import warnings\n",
    "warnings.filterwarnings('ignore')"
   ]
  },
  {
   "cell_type": "code",
   "execution_count": 3,
   "metadata": {},
   "outputs": [
    {
     "data": {
      "text/html": [
       "<div>\n",
       "<style scoped>\n",
       "    .dataframe tbody tr th:only-of-type {\n",
       "        vertical-align: middle;\n",
       "    }\n",
       "\n",
       "    .dataframe tbody tr th {\n",
       "        vertical-align: top;\n",
       "    }\n",
       "\n",
       "    .dataframe thead th {\n",
       "        text-align: right;\n",
       "    }\n",
       "</style>\n",
       "<table border=\"1\" class=\"dataframe\">\n",
       "  <thead>\n",
       "    <tr style=\"text-align: right;\">\n",
       "      <th></th>\n",
       "      <th>loan_id</th>\n",
       "      <th>source</th>\n",
       "      <th>financial_institution</th>\n",
       "      <th>interest_rate</th>\n",
       "      <th>unpaid_principal_bal</th>\n",
       "      <th>loan_term</th>\n",
       "      <th>origination_date</th>\n",
       "      <th>first_payment_date</th>\n",
       "      <th>loan_to_value</th>\n",
       "      <th>number_of_borrowers</th>\n",
       "      <th>debt_to_income_ratio</th>\n",
       "      <th>borrower_credit_score</th>\n",
       "      <th>loan_purpose</th>\n",
       "      <th>insurance_percent</th>\n",
       "      <th>co-borrower_credit_score</th>\n",
       "      <th>insurance_type</th>\n",
       "      <th>m1</th>\n",
       "      <th>m2</th>\n",
       "      <th>m3</th>\n",
       "      <th>m4</th>\n",
       "      <th>m5</th>\n",
       "      <th>m6</th>\n",
       "      <th>m7</th>\n",
       "      <th>m8</th>\n",
       "      <th>m9</th>\n",
       "      <th>m10</th>\n",
       "      <th>m11</th>\n",
       "      <th>m12</th>\n",
       "      <th>m13</th>\n",
       "    </tr>\n",
       "  </thead>\n",
       "  <tbody>\n",
       "    <tr>\n",
       "      <th>0</th>\n",
       "      <td>268055008619</td>\n",
       "      <td>Z</td>\n",
       "      <td>Turner, Baldwin and Rhodes</td>\n",
       "      <td>4.250</td>\n",
       "      <td>214000</td>\n",
       "      <td>360</td>\n",
       "      <td>2012-03-01</td>\n",
       "      <td>05/2012</td>\n",
       "      <td>95</td>\n",
       "      <td>1.0</td>\n",
       "      <td>22.0</td>\n",
       "      <td>694.0</td>\n",
       "      <td>C86</td>\n",
       "      <td>30.0</td>\n",
       "      <td>0.0</td>\n",
       "      <td>0.0</td>\n",
       "      <td>0</td>\n",
       "      <td>0</td>\n",
       "      <td>0</td>\n",
       "      <td>0</td>\n",
       "      <td>0</td>\n",
       "      <td>0</td>\n",
       "      <td>1</td>\n",
       "      <td>0</td>\n",
       "      <td>0</td>\n",
       "      <td>0</td>\n",
       "      <td>0</td>\n",
       "      <td>0</td>\n",
       "      <td>1</td>\n",
       "    </tr>\n",
       "    <tr>\n",
       "      <th>1</th>\n",
       "      <td>672831657627</td>\n",
       "      <td>Y</td>\n",
       "      <td>Swanson, Newton and Miller</td>\n",
       "      <td>4.875</td>\n",
       "      <td>144000</td>\n",
       "      <td>360</td>\n",
       "      <td>2012-01-01</td>\n",
       "      <td>03/2012</td>\n",
       "      <td>72</td>\n",
       "      <td>1.0</td>\n",
       "      <td>44.0</td>\n",
       "      <td>697.0</td>\n",
       "      <td>B12</td>\n",
       "      <td>0.0</td>\n",
       "      <td>0.0</td>\n",
       "      <td>0.0</td>\n",
       "      <td>0</td>\n",
       "      <td>0</td>\n",
       "      <td>0</td>\n",
       "      <td>0</td>\n",
       "      <td>0</td>\n",
       "      <td>0</td>\n",
       "      <td>0</td>\n",
       "      <td>0</td>\n",
       "      <td>0</td>\n",
       "      <td>0</td>\n",
       "      <td>1</td>\n",
       "      <td>0</td>\n",
       "      <td>1</td>\n",
       "    </tr>\n",
       "    <tr>\n",
       "      <th>2</th>\n",
       "      <td>742515242108</td>\n",
       "      <td>Z</td>\n",
       "      <td>Thornton-Davis</td>\n",
       "      <td>3.250</td>\n",
       "      <td>366000</td>\n",
       "      <td>180</td>\n",
       "      <td>2012-01-01</td>\n",
       "      <td>03/2012</td>\n",
       "      <td>49</td>\n",
       "      <td>1.0</td>\n",
       "      <td>33.0</td>\n",
       "      <td>780.0</td>\n",
       "      <td>B12</td>\n",
       "      <td>0.0</td>\n",
       "      <td>0.0</td>\n",
       "      <td>0.0</td>\n",
       "      <td>0</td>\n",
       "      <td>0</td>\n",
       "      <td>0</td>\n",
       "      <td>0</td>\n",
       "      <td>0</td>\n",
       "      <td>0</td>\n",
       "      <td>0</td>\n",
       "      <td>0</td>\n",
       "      <td>0</td>\n",
       "      <td>0</td>\n",
       "      <td>0</td>\n",
       "      <td>0</td>\n",
       "      <td>1</td>\n",
       "    </tr>\n",
       "    <tr>\n",
       "      <th>3</th>\n",
       "      <td>601385667462</td>\n",
       "      <td>X</td>\n",
       "      <td>OTHER</td>\n",
       "      <td>4.750</td>\n",
       "      <td>135000</td>\n",
       "      <td>360</td>\n",
       "      <td>2012-02-01</td>\n",
       "      <td>04/2012</td>\n",
       "      <td>46</td>\n",
       "      <td>2.0</td>\n",
       "      <td>44.0</td>\n",
       "      <td>633.0</td>\n",
       "      <td>B12</td>\n",
       "      <td>0.0</td>\n",
       "      <td>638.0</td>\n",
       "      <td>0.0</td>\n",
       "      <td>0</td>\n",
       "      <td>0</td>\n",
       "      <td>0</td>\n",
       "      <td>0</td>\n",
       "      <td>0</td>\n",
       "      <td>0</td>\n",
       "      <td>0</td>\n",
       "      <td>0</td>\n",
       "      <td>1</td>\n",
       "      <td>1</td>\n",
       "      <td>1</td>\n",
       "      <td>1</td>\n",
       "      <td>1</td>\n",
       "    </tr>\n",
       "    <tr>\n",
       "      <th>4</th>\n",
       "      <td>273870029961</td>\n",
       "      <td>X</td>\n",
       "      <td>OTHER</td>\n",
       "      <td>4.750</td>\n",
       "      <td>124000</td>\n",
       "      <td>360</td>\n",
       "      <td>2012-02-01</td>\n",
       "      <td>04/2012</td>\n",
       "      <td>80</td>\n",
       "      <td>1.0</td>\n",
       "      <td>43.0</td>\n",
       "      <td>681.0</td>\n",
       "      <td>C86</td>\n",
       "      <td>0.0</td>\n",
       "      <td>0.0</td>\n",
       "      <td>0.0</td>\n",
       "      <td>0</td>\n",
       "      <td>1</td>\n",
       "      <td>2</td>\n",
       "      <td>3</td>\n",
       "      <td>4</td>\n",
       "      <td>5</td>\n",
       "      <td>6</td>\n",
       "      <td>7</td>\n",
       "      <td>8</td>\n",
       "      <td>9</td>\n",
       "      <td>10</td>\n",
       "      <td>11</td>\n",
       "      <td>1</td>\n",
       "    </tr>\n",
       "  </tbody>\n",
       "</table>\n",
       "</div>"
      ],
      "text/plain": [
       "        loan_id source       financial_institution  interest_rate  \\\n",
       "0  268055008619      Z  Turner, Baldwin and Rhodes          4.250   \n",
       "1  672831657627      Y  Swanson, Newton and Miller          4.875   \n",
       "2  742515242108      Z              Thornton-Davis          3.250   \n",
       "3  601385667462      X                       OTHER          4.750   \n",
       "4  273870029961      X                       OTHER          4.750   \n",
       "\n",
       "   unpaid_principal_bal  loan_term origination_date first_payment_date  \\\n",
       "0                214000        360       2012-03-01            05/2012   \n",
       "1                144000        360       2012-01-01            03/2012   \n",
       "2                366000        180       2012-01-01            03/2012   \n",
       "3                135000        360       2012-02-01            04/2012   \n",
       "4                124000        360       2012-02-01            04/2012   \n",
       "\n",
       "   loan_to_value  number_of_borrowers  debt_to_income_ratio  \\\n",
       "0             95                  1.0                  22.0   \n",
       "1             72                  1.0                  44.0   \n",
       "2             49                  1.0                  33.0   \n",
       "3             46                  2.0                  44.0   \n",
       "4             80                  1.0                  43.0   \n",
       "\n",
       "   borrower_credit_score loan_purpose  insurance_percent  \\\n",
       "0                  694.0          C86               30.0   \n",
       "1                  697.0          B12                0.0   \n",
       "2                  780.0          B12                0.0   \n",
       "3                  633.0          B12                0.0   \n",
       "4                  681.0          C86                0.0   \n",
       "\n",
       "   co-borrower_credit_score  insurance_type  m1  m2  m3  m4  m5  m6  m7  m8  \\\n",
       "0                       0.0             0.0   0   0   0   0   0   0   1   0   \n",
       "1                       0.0             0.0   0   0   0   0   0   0   0   0   \n",
       "2                       0.0             0.0   0   0   0   0   0   0   0   0   \n",
       "3                     638.0             0.0   0   0   0   0   0   0   0   0   \n",
       "4                       0.0             0.0   0   1   2   3   4   5   6   7   \n",
       "\n",
       "   m9  m10  m11  m12  m13  \n",
       "0   0    0    0    0    1  \n",
       "1   0    0    1    0    1  \n",
       "2   0    0    0    0    1  \n",
       "3   1    1    1    1    1  \n",
       "4   8    9   10   11    1  "
      ]
     },
     "execution_count": 3,
     "metadata": {},
     "output_type": "execute_result"
    }
   ],
   "source": [
    "# load Training dataset\n",
    "train_data = pd.read_csv('train.csv')\n",
    "train_data.head()"
   ]
  },
  {
   "cell_type": "code",
   "execution_count": 4,
   "metadata": {},
   "outputs": [
    {
     "data": {
      "text/html": [
       "<div>\n",
       "<style scoped>\n",
       "    .dataframe tbody tr th:only-of-type {\n",
       "        vertical-align: middle;\n",
       "    }\n",
       "\n",
       "    .dataframe tbody tr th {\n",
       "        vertical-align: top;\n",
       "    }\n",
       "\n",
       "    .dataframe thead th {\n",
       "        text-align: right;\n",
       "    }\n",
       "</style>\n",
       "<table border=\"1\" class=\"dataframe\">\n",
       "  <thead>\n",
       "    <tr style=\"text-align: right;\">\n",
       "      <th></th>\n",
       "      <th>loan_id</th>\n",
       "      <th>source</th>\n",
       "      <th>financial_institution</th>\n",
       "      <th>interest_rate</th>\n",
       "      <th>unpaid_principal_bal</th>\n",
       "      <th>loan_term</th>\n",
       "      <th>origination_date</th>\n",
       "      <th>first_payment_date</th>\n",
       "      <th>loan_to_value</th>\n",
       "      <th>number_of_borrowers</th>\n",
       "      <th>debt_to_income_ratio</th>\n",
       "      <th>borrower_credit_score</th>\n",
       "      <th>loan_purpose</th>\n",
       "      <th>insurance_percent</th>\n",
       "      <th>co-borrower_credit_score</th>\n",
       "      <th>insurance_type</th>\n",
       "      <th>m1</th>\n",
       "      <th>m2</th>\n",
       "      <th>m3</th>\n",
       "      <th>m4</th>\n",
       "      <th>m5</th>\n",
       "      <th>m6</th>\n",
       "      <th>m7</th>\n",
       "      <th>m8</th>\n",
       "      <th>m9</th>\n",
       "      <th>m10</th>\n",
       "      <th>m11</th>\n",
       "      <th>m12</th>\n",
       "    </tr>\n",
       "  </thead>\n",
       "  <tbody>\n",
       "    <tr>\n",
       "      <th>0</th>\n",
       "      <td>1</td>\n",
       "      <td>Y</td>\n",
       "      <td>Browning-Hart</td>\n",
       "      <td>3.875</td>\n",
       "      <td>417000</td>\n",
       "      <td>360</td>\n",
       "      <td>01/02/12</td>\n",
       "      <td>Apr-12</td>\n",
       "      <td>75</td>\n",
       "      <td>1</td>\n",
       "      <td>20</td>\n",
       "      <td>790</td>\n",
       "      <td>A23</td>\n",
       "      <td>0</td>\n",
       "      <td>0</td>\n",
       "      <td>0</td>\n",
       "      <td>0</td>\n",
       "      <td>0</td>\n",
       "      <td>0</td>\n",
       "      <td>0</td>\n",
       "      <td>0</td>\n",
       "      <td>0</td>\n",
       "      <td>0</td>\n",
       "      <td>0</td>\n",
       "      <td>0</td>\n",
       "      <td>0</td>\n",
       "      <td>0</td>\n",
       "      <td>0</td>\n",
       "    </tr>\n",
       "    <tr>\n",
       "      <th>1</th>\n",
       "      <td>2</td>\n",
       "      <td>X</td>\n",
       "      <td>OTHER</td>\n",
       "      <td>4.500</td>\n",
       "      <td>113000</td>\n",
       "      <td>360</td>\n",
       "      <td>01/02/12</td>\n",
       "      <td>Apr-12</td>\n",
       "      <td>80</td>\n",
       "      <td>2</td>\n",
       "      <td>33</td>\n",
       "      <td>793</td>\n",
       "      <td>C86</td>\n",
       "      <td>0</td>\n",
       "      <td>784</td>\n",
       "      <td>0</td>\n",
       "      <td>0</td>\n",
       "      <td>0</td>\n",
       "      <td>0</td>\n",
       "      <td>0</td>\n",
       "      <td>0</td>\n",
       "      <td>0</td>\n",
       "      <td>0</td>\n",
       "      <td>0</td>\n",
       "      <td>0</td>\n",
       "      <td>0</td>\n",
       "      <td>0</td>\n",
       "      <td>0</td>\n",
       "    </tr>\n",
       "    <tr>\n",
       "      <th>2</th>\n",
       "      <td>3</td>\n",
       "      <td>Y</td>\n",
       "      <td>OTHER</td>\n",
       "      <td>4.500</td>\n",
       "      <td>72000</td>\n",
       "      <td>360</td>\n",
       "      <td>01/01/12</td>\n",
       "      <td>Mar-12</td>\n",
       "      <td>75</td>\n",
       "      <td>1</td>\n",
       "      <td>34</td>\n",
       "      <td>710</td>\n",
       "      <td>C86</td>\n",
       "      <td>0</td>\n",
       "      <td>0</td>\n",
       "      <td>0</td>\n",
       "      <td>0</td>\n",
       "      <td>0</td>\n",
       "      <td>0</td>\n",
       "      <td>0</td>\n",
       "      <td>0</td>\n",
       "      <td>0</td>\n",
       "      <td>0</td>\n",
       "      <td>0</td>\n",
       "      <td>0</td>\n",
       "      <td>0</td>\n",
       "      <td>0</td>\n",
       "      <td>0</td>\n",
       "    </tr>\n",
       "    <tr>\n",
       "      <th>3</th>\n",
       "      <td>4</td>\n",
       "      <td>X</td>\n",
       "      <td>Miller, Mcclure and Allen</td>\n",
       "      <td>4.125</td>\n",
       "      <td>123000</td>\n",
       "      <td>180</td>\n",
       "      <td>01/02/12</td>\n",
       "      <td>Apr-12</td>\n",
       "      <td>41</td>\n",
       "      <td>2</td>\n",
       "      <td>24</td>\n",
       "      <td>798</td>\n",
       "      <td>A23</td>\n",
       "      <td>0</td>\n",
       "      <td>813</td>\n",
       "      <td>0</td>\n",
       "      <td>0</td>\n",
       "      <td>0</td>\n",
       "      <td>0</td>\n",
       "      <td>0</td>\n",
       "      <td>0</td>\n",
       "      <td>0</td>\n",
       "      <td>0</td>\n",
       "      <td>0</td>\n",
       "      <td>0</td>\n",
       "      <td>0</td>\n",
       "      <td>0</td>\n",
       "      <td>0</td>\n",
       "    </tr>\n",
       "    <tr>\n",
       "      <th>4</th>\n",
       "      <td>5</td>\n",
       "      <td>X</td>\n",
       "      <td>Browning-Hart</td>\n",
       "      <td>3.250</td>\n",
       "      <td>166000</td>\n",
       "      <td>180</td>\n",
       "      <td>01/02/12</td>\n",
       "      <td>Apr-12</td>\n",
       "      <td>53</td>\n",
       "      <td>2</td>\n",
       "      <td>12</td>\n",
       "      <td>767</td>\n",
       "      <td>A23</td>\n",
       "      <td>0</td>\n",
       "      <td>768</td>\n",
       "      <td>0</td>\n",
       "      <td>0</td>\n",
       "      <td>0</td>\n",
       "      <td>0</td>\n",
       "      <td>0</td>\n",
       "      <td>0</td>\n",
       "      <td>0</td>\n",
       "      <td>0</td>\n",
       "      <td>0</td>\n",
       "      <td>0</td>\n",
       "      <td>0</td>\n",
       "      <td>0</td>\n",
       "      <td>0</td>\n",
       "    </tr>\n",
       "  </tbody>\n",
       "</table>\n",
       "</div>"
      ],
      "text/plain": [
       "   loan_id source      financial_institution  interest_rate  \\\n",
       "0        1      Y              Browning-Hart          3.875   \n",
       "1        2      X                      OTHER          4.500   \n",
       "2        3      Y                      OTHER          4.500   \n",
       "3        4      X  Miller, Mcclure and Allen          4.125   \n",
       "4        5      X              Browning-Hart          3.250   \n",
       "\n",
       "   unpaid_principal_bal  loan_term origination_date first_payment_date  \\\n",
       "0                417000        360         01/02/12             Apr-12   \n",
       "1                113000        360         01/02/12             Apr-12   \n",
       "2                 72000        360         01/01/12             Mar-12   \n",
       "3                123000        180         01/02/12             Apr-12   \n",
       "4                166000        180         01/02/12             Apr-12   \n",
       "\n",
       "   loan_to_value  number_of_borrowers  debt_to_income_ratio  \\\n",
       "0             75                    1                    20   \n",
       "1             80                    2                    33   \n",
       "2             75                    1                    34   \n",
       "3             41                    2                    24   \n",
       "4             53                    2                    12   \n",
       "\n",
       "   borrower_credit_score loan_purpose  insurance_percent  \\\n",
       "0                    790          A23                  0   \n",
       "1                    793          C86                  0   \n",
       "2                    710          C86                  0   \n",
       "3                    798          A23                  0   \n",
       "4                    767          A23                  0   \n",
       "\n",
       "   co-borrower_credit_score  insurance_type  m1  m2  m3  m4  m5  m6  m7  m8  \\\n",
       "0                         0               0   0   0   0   0   0   0   0   0   \n",
       "1                       784               0   0   0   0   0   0   0   0   0   \n",
       "2                         0               0   0   0   0   0   0   0   0   0   \n",
       "3                       813               0   0   0   0   0   0   0   0   0   \n",
       "4                       768               0   0   0   0   0   0   0   0   0   \n",
       "\n",
       "   m9  m10  m11  m12  \n",
       "0   0    0    0    0  \n",
       "1   0    0    0    0  \n",
       "2   0    0    0    0  \n",
       "3   0    0    0    0  \n",
       "4   0    0    0    0  "
      ]
     },
     "execution_count": 4,
     "metadata": {},
     "output_type": "execute_result"
    }
   ],
   "source": [
    "# load Test dataset\n",
    "test_data = pd.read_csv('test.csv')\n",
    "test_data.head()"
   ]
  },
  {
   "cell_type": "markdown",
   "metadata": {},
   "source": [
    "###  Exploratory Data Analysis\n",
    "For the Training Data :\n",
    "- Identify the Feature Columns and Target Columns\n",
    "- check if the target class  distribution is imbalanced\n",
    "- check Features for categories and data types\n",
    "- check Features for missing values and outliers\n",
    "- check Features for data distribution\n",
    "\n",
    "For the Test Data:\n",
    "- check if test data feature columns are identical to training data"
   ]
  },
  {
   "cell_type": "markdown",
   "metadata": {},
   "source": [
    "#### Check for categories of features (Columns)  and their data types"
   ]
  },
  {
   "cell_type": "code",
   "execution_count": 5,
   "metadata": {},
   "outputs": [
    {
     "name": "stdout",
     "output_type": "stream",
     "text": [
      "<class 'pandas.core.frame.DataFrame'>\n",
      "RangeIndex: 116058 entries, 0 to 116057\n",
      "Data columns (total 29 columns):\n",
      "loan_id                     116058 non-null int64\n",
      "source                      116058 non-null object\n",
      "financial_institution       116058 non-null object\n",
      "interest_rate               116058 non-null float64\n",
      "unpaid_principal_bal        116058 non-null int64\n",
      "loan_term                   116058 non-null int64\n",
      "origination_date            116058 non-null object\n",
      "first_payment_date          116058 non-null object\n",
      "loan_to_value               116058 non-null int64\n",
      "number_of_borrowers         116058 non-null float64\n",
      "debt_to_income_ratio        116058 non-null float64\n",
      "borrower_credit_score       116058 non-null float64\n",
      "loan_purpose                116058 non-null object\n",
      "insurance_percent           116058 non-null float64\n",
      "co-borrower_credit_score    116058 non-null float64\n",
      "insurance_type              116058 non-null float64\n",
      "m1                          116058 non-null int64\n",
      "m2                          116058 non-null int64\n",
      "m3                          116058 non-null int64\n",
      "m4                          116058 non-null int64\n",
      "m5                          116058 non-null int64\n",
      "m6                          116058 non-null int64\n",
      "m7                          116058 non-null int64\n",
      "m8                          116058 non-null int64\n",
      "m9                          116058 non-null int64\n",
      "m10                         116058 non-null int64\n",
      "m11                         116058 non-null int64\n",
      "m12                         116058 non-null int64\n",
      "m13                         116058 non-null int64\n",
      "dtypes: float64(7), int64(17), object(5)\n",
      "memory usage: 25.7+ MB\n"
     ]
    }
   ],
   "source": [
    "train_data.info()"
   ]
  },
  {
   "cell_type": "markdown",
   "metadata": {},
   "source": [
    "#### Check for imbalance in Target Class distribution"
   ]
  },
  {
   "cell_type": "code",
   "execution_count": 6,
   "metadata": {},
   "outputs": [
    {
     "data": {
      "text/plain": [
       "0    0.99452\n",
       "1    0.00548\n",
       "Name: m13, dtype: float64"
      ]
     },
     "execution_count": 6,
     "metadata": {},
     "output_type": "execute_result"
    }
   ],
   "source": [
    "train_data['m13'].value_counts(normalize=True) # m13 is the Target column"
   ]
  },
  {
   "cell_type": "markdown",
   "metadata": {},
   "source": [
    "- The Target Class is highly imbalanced with just 0.548% values for Positive"
   ]
  },
  {
   "cell_type": "code",
   "execution_count": 7,
   "metadata": {},
   "outputs": [
    {
     "name": "stdout",
     "output_type": "stream",
     "text": [
      "<class 'pandas.core.frame.DataFrame'>\n",
      "RangeIndex: 35866 entries, 0 to 35865\n",
      "Data columns (total 28 columns):\n",
      "loan_id                     35866 non-null int64\n",
      "source                      35866 non-null object\n",
      "financial_institution       35866 non-null object\n",
      "interest_rate               35866 non-null float64\n",
      "unpaid_principal_bal        35866 non-null int64\n",
      "loan_term                   35866 non-null int64\n",
      "origination_date            35866 non-null object\n",
      "first_payment_date          35866 non-null object\n",
      "loan_to_value               35866 non-null int64\n",
      "number_of_borrowers         35866 non-null int64\n",
      "debt_to_income_ratio        35866 non-null int64\n",
      "borrower_credit_score       35866 non-null int64\n",
      "loan_purpose                35866 non-null object\n",
      "insurance_percent           35866 non-null int64\n",
      "co-borrower_credit_score    35866 non-null int64\n",
      "insurance_type              35866 non-null int64\n",
      "m1                          35866 non-null int64\n",
      "m2                          35866 non-null int64\n",
      "m3                          35866 non-null int64\n",
      "m4                          35866 non-null int64\n",
      "m5                          35866 non-null int64\n",
      "m6                          35866 non-null int64\n",
      "m7                          35866 non-null int64\n",
      "m8                          35866 non-null int64\n",
      "m9                          35866 non-null int64\n",
      "m10                         35866 non-null int64\n",
      "m11                         35866 non-null int64\n",
      "m12                         35866 non-null int64\n",
      "dtypes: float64(1), int64(22), object(5)\n",
      "memory usage: 7.7+ MB\n"
     ]
    }
   ],
   "source": [
    "test_data.info()"
   ]
  },
  {
   "cell_type": "markdown",
   "metadata": {},
   "source": [
    "- Checking if identical columns exist in train and test data - the only difference should be absence of target variable m13 in test data"
   ]
  },
  {
   "cell_type": "code",
   "execution_count": 8,
   "metadata": {},
   "outputs": [
    {
     "name": "stdout",
     "output_type": "stream",
     "text": [
      "['m13']\n",
      "['number_of_borrowers', 'debt_to_income_ratio', 'borrower_credit_score', 'insurance_percent', 'co-borrower_credit_score', 'insurance_type']\n",
      "number_of_borrowers Train Dtype: float64 Test Dtype: int64\n",
      "debt_to_income_ratio Train Dtype: float64 Test Dtype: int64\n",
      "borrower_credit_score Train Dtype: float64 Test Dtype: int64\n",
      "insurance_percent Train Dtype: float64 Test Dtype: int64\n",
      "co-borrower_credit_score Train Dtype: float64 Test Dtype: int64\n",
      "insurance_type Train Dtype: float64 Test Dtype: int64\n"
     ]
    }
   ],
   "source": [
    "no_col_match = [col for col in train_data.columns if col not in test_data.columns]\n",
    "print(no_col_match) # should print only the target column\n",
    "\n",
    "no_dtype_match = [col for col in test_data.columns if test_data[col].dtype != train_data[col].dtype]\n",
    "print(no_dtype_match)\n",
    "\n",
    "for col in test_data.columns:\n",
    "    if test_data[col].dtype != train_data[col].dtype:\n",
    "        print('{} Train Dtype: {} Test Dtype: {}'.format(col,train_data[col].dtype,test_data[col].dtype))\n",
    "    \n"
   ]
  },
  {
   "cell_type": "code",
   "execution_count": 9,
   "metadata": {},
   "outputs": [
    {
     "data": {
      "text/html": [
       "<div>\n",
       "<style scoped>\n",
       "    .dataframe tbody tr th:only-of-type {\n",
       "        vertical-align: middle;\n",
       "    }\n",
       "\n",
       "    .dataframe tbody tr th {\n",
       "        vertical-align: top;\n",
       "    }\n",
       "\n",
       "    .dataframe thead th {\n",
       "        text-align: right;\n",
       "    }\n",
       "</style>\n",
       "<table border=\"1\" class=\"dataframe\">\n",
       "  <thead>\n",
       "    <tr style=\"text-align: right;\">\n",
       "      <th></th>\n",
       "      <th>number_of_borrowers</th>\n",
       "      <th>debt_to_income_ratio</th>\n",
       "      <th>borrower_credit_score</th>\n",
       "      <th>insurance_percent</th>\n",
       "      <th>co-borrower_credit_score</th>\n",
       "      <th>insurance_type</th>\n",
       "    </tr>\n",
       "  </thead>\n",
       "  <tbody>\n",
       "    <tr>\n",
       "      <th>54995</th>\n",
       "      <td>1.0</td>\n",
       "      <td>21.0</td>\n",
       "      <td>778.0</td>\n",
       "      <td>0.0</td>\n",
       "      <td>0.0</td>\n",
       "      <td>0.0</td>\n",
       "    </tr>\n",
       "    <tr>\n",
       "      <th>45618</th>\n",
       "      <td>1.0</td>\n",
       "      <td>24.0</td>\n",
       "      <td>771.0</td>\n",
       "      <td>30.0</td>\n",
       "      <td>0.0</td>\n",
       "      <td>0.0</td>\n",
       "    </tr>\n",
       "    <tr>\n",
       "      <th>19315</th>\n",
       "      <td>1.0</td>\n",
       "      <td>23.0</td>\n",
       "      <td>808.0</td>\n",
       "      <td>0.0</td>\n",
       "      <td>0.0</td>\n",
       "      <td>0.0</td>\n",
       "    </tr>\n",
       "    <tr>\n",
       "      <th>71893</th>\n",
       "      <td>1.0</td>\n",
       "      <td>25.0</td>\n",
       "      <td>760.0</td>\n",
       "      <td>0.0</td>\n",
       "      <td>0.0</td>\n",
       "      <td>0.0</td>\n",
       "    </tr>\n",
       "    <tr>\n",
       "      <th>49421</th>\n",
       "      <td>2.0</td>\n",
       "      <td>22.0</td>\n",
       "      <td>764.0</td>\n",
       "      <td>0.0</td>\n",
       "      <td>785.0</td>\n",
       "      <td>0.0</td>\n",
       "    </tr>\n",
       "  </tbody>\n",
       "</table>\n",
       "</div>"
      ],
      "text/plain": [
       "       number_of_borrowers  debt_to_income_ratio  borrower_credit_score  \\\n",
       "54995                  1.0                  21.0                  778.0   \n",
       "45618                  1.0                  24.0                  771.0   \n",
       "19315                  1.0                  23.0                  808.0   \n",
       "71893                  1.0                  25.0                  760.0   \n",
       "49421                  2.0                  22.0                  764.0   \n",
       "\n",
       "       insurance_percent  co-borrower_credit_score  insurance_type  \n",
       "54995                0.0                       0.0             0.0  \n",
       "45618               30.0                       0.0             0.0  \n",
       "19315                0.0                       0.0             0.0  \n",
       "71893                0.0                       0.0             0.0  \n",
       "49421                0.0                     785.0             0.0  "
      ]
     },
     "execution_count": 9,
     "metadata": {},
     "output_type": "execute_result"
    }
   ],
   "source": [
    "train_data[no_dtype_match].sample(5)"
   ]
  },
  {
   "cell_type": "code",
   "execution_count": 10,
   "metadata": {},
   "outputs": [
    {
     "name": "stdout",
     "output_type": "stream",
     "text": [
      "True\n",
      "True\n",
      "True\n",
      "True\n",
      "True\n",
      "True\n"
     ]
    }
   ],
   "source": [
    "# For the numerical columns with mismatching data types between test and train - see if the data in floating type is a whole number\n",
    "for col in no_dtype_match:\n",
    "    print(all(val.is_integer() for val in train_data[col])) # if the data is a whole number (integer)then print True"
   ]
  },
  {
   "cell_type": "code",
   "execution_count": 11,
   "metadata": {},
   "outputs": [],
   "source": [
    "# We can convert floating data types in to integer\n",
    "train_data[no_dtype_match]= train_data[no_dtype_match].astype('int64')"
   ]
  },
  {
   "cell_type": "code",
   "execution_count": 12,
   "metadata": {},
   "outputs": [
    {
     "name": "stdout",
     "output_type": "stream",
     "text": [
      "<class 'pandas.core.frame.DataFrame'>\n",
      "RangeIndex: 116058 entries, 0 to 116057\n",
      "Data columns (total 29 columns):\n",
      "loan_id                     116058 non-null int64\n",
      "source                      116058 non-null object\n",
      "financial_institution       116058 non-null object\n",
      "interest_rate               116058 non-null float64\n",
      "unpaid_principal_bal        116058 non-null int64\n",
      "loan_term                   116058 non-null int64\n",
      "origination_date            116058 non-null object\n",
      "first_payment_date          116058 non-null object\n",
      "loan_to_value               116058 non-null int64\n",
      "number_of_borrowers         116058 non-null int64\n",
      "debt_to_income_ratio        116058 non-null int64\n",
      "borrower_credit_score       116058 non-null int64\n",
      "loan_purpose                116058 non-null object\n",
      "insurance_percent           116058 non-null int64\n",
      "co-borrower_credit_score    116058 non-null int64\n",
      "insurance_type              116058 non-null int64\n",
      "m1                          116058 non-null int64\n",
      "m2                          116058 non-null int64\n",
      "m3                          116058 non-null int64\n",
      "m4                          116058 non-null int64\n",
      "m5                          116058 non-null int64\n",
      "m6                          116058 non-null int64\n",
      "m7                          116058 non-null int64\n",
      "m8                          116058 non-null int64\n",
      "m9                          116058 non-null int64\n",
      "m10                         116058 non-null int64\n",
      "m11                         116058 non-null int64\n",
      "m12                         116058 non-null int64\n",
      "m13                         116058 non-null int64\n",
      "dtypes: float64(1), int64(23), object(5)\n",
      "memory usage: 25.7+ MB\n"
     ]
    }
   ],
   "source": [
    "train_data.info()"
   ]
  },
  {
   "cell_type": "code",
   "execution_count": 13,
   "metadata": {},
   "outputs": [
    {
     "name": "stdout",
     "output_type": "stream",
     "text": [
      "[]\n"
     ]
    }
   ],
   "source": [
    "# check if data types match now\n",
    "no_dtype_match = [col for col in test_data.columns if test_data[col].dtype != train_data[col].dtype]\n",
    "print(no_dtype_match)"
   ]
  },
  {
   "cell_type": "code",
   "execution_count": 14,
   "metadata": {},
   "outputs": [
    {
     "name": "stdout",
     "output_type": "stream",
     "text": [
      "There are 5 categorical features\n",
      "['source', 'financial_institution', 'origination_date', 'first_payment_date', 'loan_purpose']\n"
     ]
    }
   ],
   "source": [
    "# find categorical features\n",
    "cat_features = [col for col in train_data.columns if train_data[col].dtype=='object']\n",
    "print('There are {} categorical features'.format(len(cat_features)))\n",
    "print(cat_features)"
   ]
  },
  {
   "cell_type": "code",
   "execution_count": 15,
   "metadata": {},
   "outputs": [
    {
     "name": "stdout",
     "output_type": "stream",
     "text": [
      "There are 24 Numerical features\n",
      "['loan_id', 'interest_rate', 'unpaid_principal_bal', 'loan_term', 'loan_to_value', 'number_of_borrowers', 'debt_to_income_ratio', 'borrower_credit_score', 'insurance_percent', 'co-borrower_credit_score', 'insurance_type', 'm1', 'm2', 'm3', 'm4', 'm5', 'm6', 'm7', 'm8', 'm9', 'm10', 'm11', 'm12', 'm13']\n"
     ]
    }
   ],
   "source": [
    "# find numerical features\n",
    "num_features = [col for col in train_data.columns if train_data[col].dtype!='object']\n",
    "print('There are {} Numerical features'.format(len(num_features)))\n",
    "print(num_features)"
   ]
  },
  {
   "cell_type": "code",
   "execution_count": 16,
   "metadata": {},
   "outputs": [
    {
     "data": {
      "text/html": [
       "<div>\n",
       "<style scoped>\n",
       "    .dataframe tbody tr th:only-of-type {\n",
       "        vertical-align: middle;\n",
       "    }\n",
       "\n",
       "    .dataframe tbody tr th {\n",
       "        vertical-align: top;\n",
       "    }\n",
       "\n",
       "    .dataframe thead th {\n",
       "        text-align: right;\n",
       "    }\n",
       "</style>\n",
       "<table border=\"1\" class=\"dataframe\">\n",
       "  <thead>\n",
       "    <tr style=\"text-align: right;\">\n",
       "      <th></th>\n",
       "      <th>source</th>\n",
       "      <th>financial_institution</th>\n",
       "      <th>origination_date</th>\n",
       "      <th>first_payment_date</th>\n",
       "      <th>loan_purpose</th>\n",
       "    </tr>\n",
       "  </thead>\n",
       "  <tbody>\n",
       "    <tr>\n",
       "      <th>110427</th>\n",
       "      <td>Z</td>\n",
       "      <td>OTHER</td>\n",
       "      <td>2012-01-01</td>\n",
       "      <td>03/2012</td>\n",
       "      <td>A23</td>\n",
       "    </tr>\n",
       "    <tr>\n",
       "      <th>100889</th>\n",
       "      <td>X</td>\n",
       "      <td>OTHER</td>\n",
       "      <td>2012-02-01</td>\n",
       "      <td>04/2012</td>\n",
       "      <td>A23</td>\n",
       "    </tr>\n",
       "    <tr>\n",
       "      <th>22971</th>\n",
       "      <td>Z</td>\n",
       "      <td>Browning-Hart</td>\n",
       "      <td>2012-02-01</td>\n",
       "      <td>04/2012</td>\n",
       "      <td>C86</td>\n",
       "    </tr>\n",
       "    <tr>\n",
       "      <th>19871</th>\n",
       "      <td>X</td>\n",
       "      <td>Browning-Hart</td>\n",
       "      <td>2012-01-01</td>\n",
       "      <td>03/2012</td>\n",
       "      <td>A23</td>\n",
       "    </tr>\n",
       "    <tr>\n",
       "      <th>52536</th>\n",
       "      <td>Z</td>\n",
       "      <td>OTHER</td>\n",
       "      <td>2012-03-01</td>\n",
       "      <td>05/2012</td>\n",
       "      <td>C86</td>\n",
       "    </tr>\n",
       "    <tr>\n",
       "      <th>23253</th>\n",
       "      <td>X</td>\n",
       "      <td>Taylor, Hunt and Rodriguez</td>\n",
       "      <td>2012-02-01</td>\n",
       "      <td>03/2012</td>\n",
       "      <td>A23</td>\n",
       "    </tr>\n",
       "    <tr>\n",
       "      <th>56218</th>\n",
       "      <td>X</td>\n",
       "      <td>Romero, Woods and Johnson</td>\n",
       "      <td>2012-02-01</td>\n",
       "      <td>04/2012</td>\n",
       "      <td>B12</td>\n",
       "    </tr>\n",
       "    <tr>\n",
       "      <th>114003</th>\n",
       "      <td>Z</td>\n",
       "      <td>Browning-Hart</td>\n",
       "      <td>2012-02-01</td>\n",
       "      <td>05/2012</td>\n",
       "      <td>A23</td>\n",
       "    </tr>\n",
       "    <tr>\n",
       "      <th>79384</th>\n",
       "      <td>X</td>\n",
       "      <td>Browning-Hart</td>\n",
       "      <td>2012-01-01</td>\n",
       "      <td>03/2012</td>\n",
       "      <td>C86</td>\n",
       "    </tr>\n",
       "    <tr>\n",
       "      <th>73117</th>\n",
       "      <td>Y</td>\n",
       "      <td>Browning-Hart</td>\n",
       "      <td>2012-01-01</td>\n",
       "      <td>04/2012</td>\n",
       "      <td>A23</td>\n",
       "    </tr>\n",
       "  </tbody>\n",
       "</table>\n",
       "</div>"
      ],
      "text/plain": [
       "       source       financial_institution origination_date first_payment_date  \\\n",
       "110427      Z                       OTHER       2012-01-01            03/2012   \n",
       "100889      X                       OTHER       2012-02-01            04/2012   \n",
       "22971       Z               Browning-Hart       2012-02-01            04/2012   \n",
       "19871       X               Browning-Hart       2012-01-01            03/2012   \n",
       "52536       Z                       OTHER       2012-03-01            05/2012   \n",
       "23253       X  Taylor, Hunt and Rodriguez       2012-02-01            03/2012   \n",
       "56218       X   Romero, Woods and Johnson       2012-02-01            04/2012   \n",
       "114003      Z               Browning-Hart       2012-02-01            05/2012   \n",
       "79384       X               Browning-Hart       2012-01-01            03/2012   \n",
       "73117       Y               Browning-Hart       2012-01-01            04/2012   \n",
       "\n",
       "       loan_purpose  \n",
       "110427          A23  \n",
       "100889          A23  \n",
       "22971           C86  \n",
       "19871           A23  \n",
       "52536           C86  \n",
       "23253           A23  \n",
       "56218           B12  \n",
       "114003          A23  \n",
       "79384           C86  \n",
       "73117           A23  "
      ]
     },
     "execution_count": 16,
     "metadata": {},
     "output_type": "execute_result"
    }
   ],
   "source": [
    "train_data[cat_features].sample(10)"
   ]
  },
  {
   "cell_type": "markdown",
   "metadata": {},
   "source": [
    "####  Temporal Features (Date time based) columns\n",
    "We have 2 features (columns) - 'origination_date' and 'first_payment_date'. While the dates may not be as useful - \n",
    "the elapsed days between Origination date and first payment date may be useful.\n",
    "\n",
    "-TBD : Feature Engineering section"
   ]
  },
  {
   "cell_type": "code",
   "execution_count": 17,
   "metadata": {},
   "outputs": [
    {
     "name": "stdout",
     "output_type": "stream",
     "text": [
      "source  values:  ['Z' 'Y' 'X']\n",
      "financial_institution  values:  ['Turner, Baldwin and Rhodes' 'Swanson, Newton and Miller'\n",
      " 'Thornton-Davis' 'OTHER' 'Browning-Hart' 'Richardson Ltd'\n",
      " 'Edwards-Hoffman' 'Richards-Walters' 'Martinez, Duffy and Bird'\n",
      " 'Miller, Mcclure and Allen' 'Anderson-Taylor'\n",
      " 'Taylor, Hunt and Rodriguez' 'Nicholson Group' 'Cole, Brooks and Vincent'\n",
      " 'Sanchez, Hays and Wilkerson' 'Sanchez-Robinson' 'Suarez Inc'\n",
      " 'Romero, Woods and Johnson' 'Chapman-Mcmahon']\n",
      "origination_date  values:  ['2012-03-01' '2012-01-01' '2012-02-01']\n",
      "first_payment_date  values:  ['05/2012' '03/2012' '04/2012' '02/2012']\n",
      "loan_purpose  values:  ['C86' 'B12' 'A23']\n"
     ]
    }
   ],
   "source": [
    "# let's see the range of values present in the categorical features\n",
    "for col in cat_features:\n",
    "    print(col, ' values: ', train_data[col].unique())"
   ]
  },
  {
   "cell_type": "markdown",
   "metadata": {},
   "source": [
    "- Cardinality is low - no need to address"
   ]
  },
  {
   "cell_type": "code",
   "execution_count": 18,
   "metadata": {},
   "outputs": [
    {
     "data": {
      "text/plain": [
       "OTHER                          0.428226\n",
       "Browning-Hart                  0.274449\n",
       "Swanson, Newton and Miller     0.059229\n",
       "Edwards-Hoffman                0.041850\n",
       "Martinez, Duffy and Bird       0.040626\n",
       "Miller, Mcclure and Allen      0.027211\n",
       "Nicholson Group                0.018232\n",
       "Turner, Baldwin and Rhodes     0.015906\n",
       "Suarez Inc                     0.015423\n",
       "Cole, Brooks and Vincent       0.014148\n",
       "Richards-Walters               0.012571\n",
       "Taylor, Hunt and Rodriguez     0.010848\n",
       "Sanchez-Robinson               0.010279\n",
       "Sanchez, Hays and Wilkerson    0.007350\n",
       "Romero, Woods and Johnson      0.006462\n",
       "Thornton-Davis                 0.005609\n",
       "Anderson-Taylor                0.004162\n",
       "Richardson Ltd                 0.004076\n",
       "Chapman-Mcmahon                0.003343\n",
       "Name: financial_institution, dtype: float64"
      ]
     },
     "execution_count": 18,
     "metadata": {},
     "output_type": "execute_result"
    }
   ],
   "source": [
    "train_data.financial_institution.value_counts(normalize=True)"
   ]
  },
  {
   "cell_type": "code",
   "execution_count": 19,
   "metadata": {},
   "outputs": [
    {
     "data": {
      "text/html": [
       "<div>\n",
       "<style scoped>\n",
       "    .dataframe tbody tr th:only-of-type {\n",
       "        vertical-align: middle;\n",
       "    }\n",
       "\n",
       "    .dataframe tbody tr th {\n",
       "        vertical-align: top;\n",
       "    }\n",
       "\n",
       "    .dataframe thead th {\n",
       "        text-align: right;\n",
       "    }\n",
       "</style>\n",
       "<table border=\"1\" class=\"dataframe\">\n",
       "  <thead>\n",
       "    <tr style=\"text-align: right;\">\n",
       "      <th></th>\n",
       "      <th>loan_id</th>\n",
       "      <th>interest_rate</th>\n",
       "      <th>unpaid_principal_bal</th>\n",
       "      <th>loan_term</th>\n",
       "      <th>loan_to_value</th>\n",
       "      <th>number_of_borrowers</th>\n",
       "      <th>debt_to_income_ratio</th>\n",
       "      <th>borrower_credit_score</th>\n",
       "      <th>insurance_percent</th>\n",
       "      <th>co-borrower_credit_score</th>\n",
       "      <th>insurance_type</th>\n",
       "      <th>m1</th>\n",
       "      <th>m2</th>\n",
       "      <th>m3</th>\n",
       "      <th>m4</th>\n",
       "      <th>m5</th>\n",
       "      <th>m6</th>\n",
       "      <th>m7</th>\n",
       "      <th>m8</th>\n",
       "      <th>m9</th>\n",
       "      <th>m10</th>\n",
       "      <th>m11</th>\n",
       "      <th>m12</th>\n",
       "      <th>m13</th>\n",
       "    </tr>\n",
       "  </thead>\n",
       "  <tbody>\n",
       "    <tr>\n",
       "      <th>85496</th>\n",
       "      <td>961988513952</td>\n",
       "      <td>4.125</td>\n",
       "      <td>151000</td>\n",
       "      <td>360</td>\n",
       "      <td>80</td>\n",
       "      <td>1</td>\n",
       "      <td>45</td>\n",
       "      <td>701</td>\n",
       "      <td>0</td>\n",
       "      <td>0</td>\n",
       "      <td>0</td>\n",
       "      <td>0</td>\n",
       "      <td>0</td>\n",
       "      <td>0</td>\n",
       "      <td>0</td>\n",
       "      <td>0</td>\n",
       "      <td>0</td>\n",
       "      <td>0</td>\n",
       "      <td>0</td>\n",
       "      <td>0</td>\n",
       "      <td>0</td>\n",
       "      <td>0</td>\n",
       "      <td>0</td>\n",
       "      <td>0</td>\n",
       "    </tr>\n",
       "    <tr>\n",
       "      <th>85497</th>\n",
       "      <td>852946222188</td>\n",
       "      <td>3.250</td>\n",
       "      <td>94000</td>\n",
       "      <td>154</td>\n",
       "      <td>58</td>\n",
       "      <td>2</td>\n",
       "      <td>25</td>\n",
       "      <td>788</td>\n",
       "      <td>0</td>\n",
       "      <td>790</td>\n",
       "      <td>0</td>\n",
       "      <td>0</td>\n",
       "      <td>0</td>\n",
       "      <td>0</td>\n",
       "      <td>0</td>\n",
       "      <td>0</td>\n",
       "      <td>0</td>\n",
       "      <td>0</td>\n",
       "      <td>0</td>\n",
       "      <td>0</td>\n",
       "      <td>0</td>\n",
       "      <td>0</td>\n",
       "      <td>0</td>\n",
       "      <td>0</td>\n",
       "    </tr>\n",
       "    <tr>\n",
       "      <th>87193</th>\n",
       "      <td>572950278674</td>\n",
       "      <td>4.500</td>\n",
       "      <td>128000</td>\n",
       "      <td>360</td>\n",
       "      <td>95</td>\n",
       "      <td>1</td>\n",
       "      <td>40</td>\n",
       "      <td>717</td>\n",
       "      <td>30</td>\n",
       "      <td>0</td>\n",
       "      <td>0</td>\n",
       "      <td>0</td>\n",
       "      <td>0</td>\n",
       "      <td>0</td>\n",
       "      <td>0</td>\n",
       "      <td>0</td>\n",
       "      <td>0</td>\n",
       "      <td>0</td>\n",
       "      <td>0</td>\n",
       "      <td>0</td>\n",
       "      <td>0</td>\n",
       "      <td>0</td>\n",
       "      <td>0</td>\n",
       "      <td>0</td>\n",
       "    </tr>\n",
       "    <tr>\n",
       "      <th>89803</th>\n",
       "      <td>741994423716</td>\n",
       "      <td>4.125</td>\n",
       "      <td>417000</td>\n",
       "      <td>360</td>\n",
       "      <td>78</td>\n",
       "      <td>2</td>\n",
       "      <td>28</td>\n",
       "      <td>712</td>\n",
       "      <td>0</td>\n",
       "      <td>755</td>\n",
       "      <td>0</td>\n",
       "      <td>0</td>\n",
       "      <td>0</td>\n",
       "      <td>0</td>\n",
       "      <td>0</td>\n",
       "      <td>0</td>\n",
       "      <td>0</td>\n",
       "      <td>0</td>\n",
       "      <td>0</td>\n",
       "      <td>0</td>\n",
       "      <td>0</td>\n",
       "      <td>0</td>\n",
       "      <td>0</td>\n",
       "      <td>0</td>\n",
       "    </tr>\n",
       "    <tr>\n",
       "      <th>70772</th>\n",
       "      <td>850597992374</td>\n",
       "      <td>4.000</td>\n",
       "      <td>315000</td>\n",
       "      <td>360</td>\n",
       "      <td>41</td>\n",
       "      <td>2</td>\n",
       "      <td>21</td>\n",
       "      <td>695</td>\n",
       "      <td>0</td>\n",
       "      <td>783</td>\n",
       "      <td>0</td>\n",
       "      <td>0</td>\n",
       "      <td>0</td>\n",
       "      <td>0</td>\n",
       "      <td>0</td>\n",
       "      <td>0</td>\n",
       "      <td>0</td>\n",
       "      <td>0</td>\n",
       "      <td>0</td>\n",
       "      <td>0</td>\n",
       "      <td>0</td>\n",
       "      <td>0</td>\n",
       "      <td>0</td>\n",
       "      <td>0</td>\n",
       "    </tr>\n",
       "    <tr>\n",
       "      <th>7954</th>\n",
       "      <td>141868294734</td>\n",
       "      <td>4.000</td>\n",
       "      <td>291000</td>\n",
       "      <td>360</td>\n",
       "      <td>57</td>\n",
       "      <td>2</td>\n",
       "      <td>19</td>\n",
       "      <td>782</td>\n",
       "      <td>0</td>\n",
       "      <td>784</td>\n",
       "      <td>0</td>\n",
       "      <td>0</td>\n",
       "      <td>0</td>\n",
       "      <td>0</td>\n",
       "      <td>0</td>\n",
       "      <td>0</td>\n",
       "      <td>0</td>\n",
       "      <td>0</td>\n",
       "      <td>0</td>\n",
       "      <td>0</td>\n",
       "      <td>0</td>\n",
       "      <td>0</td>\n",
       "      <td>0</td>\n",
       "      <td>0</td>\n",
       "    </tr>\n",
       "    <tr>\n",
       "      <th>30777</th>\n",
       "      <td>559752393776</td>\n",
       "      <td>3.250</td>\n",
       "      <td>208000</td>\n",
       "      <td>180</td>\n",
       "      <td>55</td>\n",
       "      <td>1</td>\n",
       "      <td>36</td>\n",
       "      <td>788</td>\n",
       "      <td>0</td>\n",
       "      <td>0</td>\n",
       "      <td>0</td>\n",
       "      <td>0</td>\n",
       "      <td>0</td>\n",
       "      <td>0</td>\n",
       "      <td>0</td>\n",
       "      <td>0</td>\n",
       "      <td>0</td>\n",
       "      <td>0</td>\n",
       "      <td>0</td>\n",
       "      <td>0</td>\n",
       "      <td>0</td>\n",
       "      <td>0</td>\n",
       "      <td>0</td>\n",
       "      <td>0</td>\n",
       "    </tr>\n",
       "    <tr>\n",
       "      <th>3577</th>\n",
       "      <td>680270187938</td>\n",
       "      <td>3.100</td>\n",
       "      <td>204000</td>\n",
       "      <td>180</td>\n",
       "      <td>49</td>\n",
       "      <td>2</td>\n",
       "      <td>23</td>\n",
       "      <td>816</td>\n",
       "      <td>0</td>\n",
       "      <td>814</td>\n",
       "      <td>0</td>\n",
       "      <td>0</td>\n",
       "      <td>0</td>\n",
       "      <td>0</td>\n",
       "      <td>0</td>\n",
       "      <td>0</td>\n",
       "      <td>0</td>\n",
       "      <td>0</td>\n",
       "      <td>0</td>\n",
       "      <td>0</td>\n",
       "      <td>0</td>\n",
       "      <td>0</td>\n",
       "      <td>0</td>\n",
       "      <td>0</td>\n",
       "    </tr>\n",
       "    <tr>\n",
       "      <th>4377</th>\n",
       "      <td>670220137928</td>\n",
       "      <td>4.000</td>\n",
       "      <td>115000</td>\n",
       "      <td>240</td>\n",
       "      <td>80</td>\n",
       "      <td>2</td>\n",
       "      <td>25</td>\n",
       "      <td>789</td>\n",
       "      <td>0</td>\n",
       "      <td>801</td>\n",
       "      <td>0</td>\n",
       "      <td>0</td>\n",
       "      <td>0</td>\n",
       "      <td>0</td>\n",
       "      <td>0</td>\n",
       "      <td>0</td>\n",
       "      <td>0</td>\n",
       "      <td>0</td>\n",
       "      <td>0</td>\n",
       "      <td>0</td>\n",
       "      <td>0</td>\n",
       "      <td>0</td>\n",
       "      <td>0</td>\n",
       "      <td>0</td>\n",
       "    </tr>\n",
       "    <tr>\n",
       "      <th>30246</th>\n",
       "      <td>134789663201</td>\n",
       "      <td>3.500</td>\n",
       "      <td>417000</td>\n",
       "      <td>180</td>\n",
       "      <td>79</td>\n",
       "      <td>1</td>\n",
       "      <td>25</td>\n",
       "      <td>722</td>\n",
       "      <td>0</td>\n",
       "      <td>0</td>\n",
       "      <td>0</td>\n",
       "      <td>0</td>\n",
       "      <td>0</td>\n",
       "      <td>0</td>\n",
       "      <td>0</td>\n",
       "      <td>0</td>\n",
       "      <td>0</td>\n",
       "      <td>0</td>\n",
       "      <td>0</td>\n",
       "      <td>0</td>\n",
       "      <td>0</td>\n",
       "      <td>0</td>\n",
       "      <td>0</td>\n",
       "      <td>0</td>\n",
       "    </tr>\n",
       "  </tbody>\n",
       "</table>\n",
       "</div>"
      ],
      "text/plain": [
       "            loan_id  interest_rate  unpaid_principal_bal  loan_term  \\\n",
       "85496  961988513952          4.125                151000        360   \n",
       "85497  852946222188          3.250                 94000        154   \n",
       "87193  572950278674          4.500                128000        360   \n",
       "89803  741994423716          4.125                417000        360   \n",
       "70772  850597992374          4.000                315000        360   \n",
       "7954   141868294734          4.000                291000        360   \n",
       "30777  559752393776          3.250                208000        180   \n",
       "3577   680270187938          3.100                204000        180   \n",
       "4377   670220137928          4.000                115000        240   \n",
       "30246  134789663201          3.500                417000        180   \n",
       "\n",
       "       loan_to_value  number_of_borrowers  debt_to_income_ratio  \\\n",
       "85496             80                    1                    45   \n",
       "85497             58                    2                    25   \n",
       "87193             95                    1                    40   \n",
       "89803             78                    2                    28   \n",
       "70772             41                    2                    21   \n",
       "7954              57                    2                    19   \n",
       "30777             55                    1                    36   \n",
       "3577              49                    2                    23   \n",
       "4377              80                    2                    25   \n",
       "30246             79                    1                    25   \n",
       "\n",
       "       borrower_credit_score  insurance_percent  co-borrower_credit_score  \\\n",
       "85496                    701                  0                         0   \n",
       "85497                    788                  0                       790   \n",
       "87193                    717                 30                         0   \n",
       "89803                    712                  0                       755   \n",
       "70772                    695                  0                       783   \n",
       "7954                     782                  0                       784   \n",
       "30777                    788                  0                         0   \n",
       "3577                     816                  0                       814   \n",
       "4377                     789                  0                       801   \n",
       "30246                    722                  0                         0   \n",
       "\n",
       "       insurance_type  m1  m2  m3  m4  m5  m6  m7  m8  m9  m10  m11  m12  m13  \n",
       "85496               0   0   0   0   0   0   0   0   0   0    0    0    0    0  \n",
       "85497               0   0   0   0   0   0   0   0   0   0    0    0    0    0  \n",
       "87193               0   0   0   0   0   0   0   0   0   0    0    0    0    0  \n",
       "89803               0   0   0   0   0   0   0   0   0   0    0    0    0    0  \n",
       "70772               0   0   0   0   0   0   0   0   0   0    0    0    0    0  \n",
       "7954                0   0   0   0   0   0   0   0   0   0    0    0    0    0  \n",
       "30777               0   0   0   0   0   0   0   0   0   0    0    0    0    0  \n",
       "3577                0   0   0   0   0   0   0   0   0   0    0    0    0    0  \n",
       "4377                0   0   0   0   0   0   0   0   0   0    0    0    0    0  \n",
       "30246               0   0   0   0   0   0   0   0   0   0    0    0    0    0  "
      ]
     },
     "execution_count": 19,
     "metadata": {},
     "output_type": "execute_result"
    }
   ],
   "source": [
    "train_data[num_features].sample(10)"
   ]
  },
  {
   "cell_type": "code",
   "execution_count": 20,
   "metadata": {},
   "outputs": [
    {
     "name": "stdout",
     "output_type": "stream",
     "text": [
      "interest_rate  values:  [4.25  4.875 3.25  4.75  4.375 4.    4.5   4.125 3.75  4.625 5.125 3.375\n",
      " 3.99  4.312 3.875 5.5   3.5   3.33  5.    3.625 5.25  2.875 3.46  3.98\n",
      " 3.928 5.375 3.95  4.05  3.125 3.    5.75  3.74  3.709 4.3   4.99  4.225\n",
      " 5.875 4.28  4.58  4.9   4.49  4.1   3.856 4.54  3.77  3.504 3.958 4.06\n",
      " 3.87  3.1   3.94  4.124 4.015 2.95  3.167 3.835 3.938 3.503 3.438 3.49\n",
      " 3.24  4.19  3.902 4.46  3.289 3.978 4.03  4.358 2.99  3.795 3.074 3.91\n",
      " 2.975 3.71  2.75  4.08  4.876 3.185 3.35  4.2   4.864 3.613 3.865 4.917\n",
      " 3.908 3.337 3.92  2.625 3.43  3.65  4.17  3.85  3.985 2.775 3.79  3.67\n",
      " 3.947 4.048 2.8   3.17  4.21  4.849 3.83  4.521 3.852 3.943 3.999 3.972\n",
      " 3.18  3.476 4.986 3.42  3.2   4.119 5.625 3.175 3.41  3.145 3.837 3.331\n",
      " 3.7   3.983 4.115 4.499 3.16  3.45  3.319 3.93  3.8   3.925 3.73  4.368\n",
      " 3.13  3.9   3.05  3.54  3.08  4.29  3.58  3.81  3.31  4.089 3.97  3.746\n",
      " 4.217 3.825 3.4   3.392 3.321 3.976 3.47  4.33  3.184 4.09  4.31  3.847\n",
      " 3.923 3.15  3.426 4.012 3.84  3.819 3.134 3.932 4.334 3.066 2.825 4.56\n",
      " 3.708 3.988 4.44  3.427 4.637 4.04  4.046 4.482 3.936 4.287 6.25  2.88\n",
      " 3.48  3.363 3.846 3.981 3.191 4.47  3.3   3.727 3.23  3.096 3.498 3.945\n",
      " 4.269 3.873 3.915 3.34  3.367 3.952 3.851 3.675 3.96  3.329 3.78  3.248\n",
      " 4.175 3.759 3.59  3.762 3.53  2.93  3.379 3.56  3.686 3.55  3.89  4.303\n",
      " 3.884 3.501 3.768 3.44  3.822 4.35  4.259 3.326 3.04  3.786 4.27  4.093\n",
      " 3.953 3.674 3.949 4.71  3.28  3.653 4.4   3.491 4.202 3.056 3.989 3.225\n",
      " 3.903 4.34  2.999 5.69  3.249 4.16  3.045 3.951 3.792 4.307 3.508 3.245\n",
      " 3.771 3.166 4.391 3.858 3.796 3.635 3.725 4.075 3.19  4.615 4.088 4.044\n",
      " 3.355 3.965 3.741 3.804 4.163 2.375 4.438 2.725 3.66  3.165 3.863 3.052\n",
      " 3.937 3.515 4.408 3.111 4.478 3.975 3.899 3.874 4.446 4.002 3.751 4.178\n",
      " 3.844 3.228 3.341 4.101 4.242 4.068 3.493 3.261 3.887 3.697 3.276 4.236\n",
      " 3.569 3.131 3.035 4.79  4.052 2.5   3.963 3.812 2.779 3.86  2.847 3.255\n",
      " 4.67  3.488 2.79  4.208 3.334 3.827 4.299 3.606 4.815 3.904 4.406 4.004\n",
      " 3.913 4.775 3.69  2.997 3.552 2.85  3.939 3.198 4.211 4.042 4.24  2.92\n",
      " 3.237 4.362 4.43  3.238 3.76  4.325 4.15  3.955 4.479 4.245 4.732 3.308\n",
      " 2.9   6.    3.769 4.053 4.41  3.906 3.896 3.403 4.336 2.945 3.979 3.966\n",
      " 4.066 3.171 3.876 5.309 5.21  3.82  5.06  3.948 3.859 4.344 2.81  3.654\n",
      " 3.29  3.428 4.486 4.45  4.463 3.373 3.909 3.042 4.084 2.996 4.235 3.857\n",
      " 4.436 4.372 4.562 2.897 3.295 3.555 3.998 4.147 4.083 3.775 4.195 3.982\n",
      " 3.905 3.813 3.425 3.959 3.265 4.038 3.689 4.502 3.969 3.824 4.489 3.161\n",
      " 2.925 3.805 3.72  3.283 4.78  3.177 3.342 3.934 4.367 3.102 4.097 3.281\n",
      " 4.896 3.525 4.308 3.335 4.103 5.115 4.606 3.486 4.345 4.417 3.861 3.677\n",
      " 3.374 3.886 3.744 3.39  4.073 4.69  4.487 3.893 3.415 4.81  3.02  3.892\n",
      " 4.451 4.42  3.871 3.6   3.885 3.826 4.326 4.062 4.207 3.738 3.802 2.977\n",
      " 3.446 3.413 6.625 4.216 3.144 4.055 3.36  4.181 4.629 4.96  3.897 3.688\n",
      " 3.247 4.927 3.21  3.589 3.592 3.155 3.855 3.564 3.327 3.977 4.22  5.101\n",
      " 3.834 3.935 4.374 4.094 4.019 3.68  3.025 3.872 2.895 3.348 4.53  3.273\n",
      " 3.764 3.256 4.55  4.264 3.236 4.104 4.013 3.957 3.747 3.075 3.078 3.743\n",
      " 3.215 3.849 3.448 3.971 4.437 4.188 3.232 3.864 3.922 3.838 3.458 3.695\n",
      " 3.351 4.01  4.97  3.27  3.986 3.914 3.365 3.37  4.018 3.599 3.611 4.609\n",
      " 4.65  4.982 3.195 4.26  3.745 4.092 3.773 3.502 4.258 5.43  3.961 3.371\n",
      " 4.696 3.946 3.715 3.452 3.968 3.474 3.842 3.823 3.338 4.201 4.127 3.219\n",
      " 4.454 3.364 3.455 5.34  3.241 3.07  3.389 5.103 3.383 3.693 3.729 4.825\n",
      " 3.449 3.275 4.106 4.169 4.338 3.463 4.173 3.944 3.883 2.856 3.252 3.666\n",
      " 3.781 3.881 3.721 3.647 3.404 3.88  4.892 4.13  2.965 5.46  4.057 3.118\n",
      " 3.213 4.229 5.172 3.733 3.713 3.921 3.344 5.021 4.645 3.09  3.495 3.974\n",
      " 3.836 4.027 3.362 3.845 4.85  4.517 4.161 4.276 4.146 3.916 4.204 3.912\n",
      " 2.862 3.907 3.299 3.821 3.662 6.5   4.137 3.067 3.942 4.91  3.002 3.385\n",
      " 5.325 3.933 3.918 4.32  3.485 2.83  3.239 4.196 3.832 3.349 3.672 3.621\n",
      " 4.83  3.323 3.479 3.895 4.541 3.898 5.04  3.393 3.466 4.98  4.313 3.877\n",
      " 4.257 3.545 3.839 4.128 5.03  4.412 3.993 4.099 3.783 4.485 4.045 4.086\n",
      " 4.151 3.475 3.471 4.025 3.568 4.542 4.477 4.001 3.292 5.08  4.183 3.765\n",
      " 4.363 3.956 4.02  4.071 3.242 3.782 3.862 4.029 3.214 3.632 5.295 4.033\n",
      " 3.841 3.681 3.313 3.356 3.26  2.69  4.051 2.885 3.894 3.609 3.294 2.761\n",
      " 4.231 3.581 4.792 3.414 4.495 3.984 4.396 3.465 3.964 4.164 3.186 3.967\n",
      " 4.063 3.073 3.574 3.315 3.901 3.377 3.401 2.91  3.756 3.551 3.424 4.289\n",
      " 3.122 4.286 5.28  3.973 3.799 3.253 4.82  4.387 3.381 4.281 4.254 4.544\n",
      " 4.078 4.356 4.11  3.757 4.275 4.84  3.638 4.361 3.22  3.257 4.072 3.51\n",
      " 3.779 3.755 4.028 4.282 4.008 4.109 3.388 3.188 4.095 4.456 3.531 3.926\n",
      " 3.296 3.229 3.199 3.63  5.403 4.255 3.997 3.359 3.917 4.401 3.405 3.619\n",
      " 4.392 3.147 3.962 3.317 3.703 4.159 3.369 4.273 4.222 4.93  2.978 4.465\n",
      " 3.266 4.022 3.784 3.077 4.274 3.013 2.931 3.259 3.008 3.094 3.246 3.431\n",
      " 3.833 3.718 3.659 3.853 5.483 3.288 3.487 3.854 4.126 2.916 5.127 3.869\n",
      " 4.459 4.404 3.888 3.212 4.852 3.422 4.428 2.98  3.287 3.788 4.187 3.366\n",
      " 3.866 4.48  3.919 5.14  3.722 4.405 4.597 3.994 3.596 3.332 4.184 3.576\n",
      " 4.87  3.391 3.022 3.302 4.082 5.132 3.343 3.987 4.95  4.669 3.878 3.991\n",
      " 4.213 3.911 4.679 6.75  4.256 3.499 4.291 4.318 3.399 3.071 5.18  4.199\n",
      " 4.032 3.437 3.624 3.941 4.176 4.016 5.56  3.451 4.473 3.222 3.797 3.868\n",
      " 3.673 4.385 4.911 3.626 4.805 3.604 3.661 3.931 3.031 4.72  3.454 4.006\n",
      " 3.694 3.207 3.178 4.292 4.891 3.737 5.097 3.318 4.38  3.007 4.158 5.47\n",
      " 4.388 4.031 3.734 3.605 3.126 4.023 3.464 3.728 3.305 3.671 4.445 2.865\n",
      " 4.394 4.59  4.506 3.633 4.185 3.752 2.25  3.251 4.973 3.187 3.396 3.567\n",
      " 4.66  4.043 4.543 3.731 4.117 4.816 3.226 5.05  3.325 3.333 4.253]\n",
      "unpaid_principal_bal  values:  [ 214000  144000  366000  135000  124000  150000   59000  319000  520000\n",
      "   74000  192000   46000  256000   84000   48000   68000  142000   89000\n",
      "  417000   55000   60000  127000  215000  246000   77000  203000  162000\n",
      "  264000  207000  200000   82000   71000  588000  107000  172000   76000\n",
      "   42000  376000  412000  235000  198000   67000  120000  453000   80000\n",
      "   61000  133000  267000  239000  404000   70000  125000  175000  115000\n",
      "  180000   98000  188000  415000   57000  249000  153000  177000  315000\n",
      "  220000  288000   64000  224000  154000  345000  118000  199000  304000\n",
      "  114000  148000  105000   65000  190000  185000  169000  131000  116000\n",
      "  171000   54000  344000  395000   95000  110000  221000  103000  160000\n",
      "  157000  244000   91000  141000  134000  295000  122000  145000  413000\n",
      "  117000  250000  163000  420000  242000  183000  396000  334000  165000\n",
      "   25000  130000   90000  283000  268000   96000  156000   72000  386000\n",
      "   29000  360000   47000  100000  193000  210000  384000  339000  136000\n",
      "  123000  147000  216000  101000  184000  182000  243000  191000  164000\n",
      "  342000  610000  272000  316000  380000  252000  155000   99000  400000\n",
      "  375000  328000  126000  325000  168000  282000  240000  132000  225000\n",
      "  356000  232000   86000  370000   35000  128000   93000  253000   87000\n",
      "   94000   39000  238000  303000  212000  159000  204000  281000  194000\n",
      "  335000  405000  176000  222000  108000  340000  112000  470000  411000\n",
      "  167000  276000  347000  138000  237000  310000  327000  293000   88000\n",
      "  260000   81000  410000  129000  139000  296000  280000  452000  379000\n",
      "  355000  284000  143000  394000  195000  262000  140000  306000  391000\n",
      "  174000   75000  113000  187000  231000  152000   41000  263000   62000\n",
      "   79000  590000  383000  277000   69000  213000   50000  119000  186000\n",
      "  111000   38000  137000  333000   53000   78000  209000  173000  245000\n",
      "  271000  311000   44000  228000  348000  218000  206000  374000  354000\n",
      "  104000  299000  368000  109000  359000  248000   14000  351000   85000\n",
      "   92000  102000  387000   52000  322000   30000  279000  208000  305000\n",
      "  230000   24000  300000  241000  236000  270000  151000   66000   97000\n",
      "   56000   73000  201000  149000  308000  403000  468000  332000  234000\n",
      "  170000  385000  227000  389000   45000  358000  254000  621000  317000\n",
      "  626000  178000  526000  286000  290000  196000  166000  181000  146000\n",
      "  158000  312000  275000  285000  189000  302000  121000  323000  233000\n",
      "  407000  229000  273000  406000  205000   83000  445000   43000  392000\n",
      "  255000  364000  211000  265000  414000  297000  491000  341000  397000\n",
      "  269000  390000  321000  623000   40000  378000  338000  257000  202000\n",
      "  106000  258000  353000  497000  274000  298000  605000  343000  259000\n",
      "  408000  467000  388000  219000  337000  476000  292000  320000  313000\n",
      "  352000  600000  289000  329000  495000  402000  331000  161000  557000\n",
      "  365000  401000  361000  508000  266000   37000  455000  625000  223000\n",
      "  540000  409000  226000  500000  371000  456000  490000  382000  603000\n",
      "  251000  307000  287000  480000  477000  399000   27000   51000  451000\n",
      "   58000  373000  330000   63000  278000  501000  247000  372000  416000\n",
      "  350000  381000  309000  217000  442000  555000   36000  482000   26000\n",
      "  506000  197000  294000  349000  369000  357000  393000  362000  620000\n",
      "  512000  510000  609000  530000  179000  433000  562000  448000  544000\n",
      "  472000  486000  425000  580000  556000  326000  475000   33000  346000\n",
      "  550000   18000  318000  336000  531000  460000  314000   19000  616000\n",
      "   34000  546000  581000  509000  459000  458000  324000  398000  534000\n",
      "  505000  523000  440000  481000  367000  444000  261000  539000  377000\n",
      "  435000   28000  606000  474000   21000  428000  613000  291000   32000\n",
      "  424000  547000  619000   49000  615000  437000  301000  522000  536000\n",
      "  574000  363000  612000  571000  464000  436000  535000  503000  607000\n",
      "  595000   31000  617000  517000  525000  450000  483000  454000  560000\n",
      "  484000  465000  429000  427000  582000  507000  570000  689000  543000\n",
      "  488000  513000  575000  618000  529000  439000  598000  504000  494000\n",
      "  558000  532000  438000  608000  578000  566000  499000  418000  449000\n",
      "  569000  473000  479000  602000  548000  541000  553000  502000  514000\n",
      "  593000  585000  462000  447000  589000  518000  471000  485000  597000\n",
      "  496000  489000  466000  487000  572000  469000  561000  551000  563000\n",
      "  432000  515000  577000  584000  431000  552000  564000  604000  586000\n",
      "  533000  492000  493000  579000  542000  521000   16000  463000   23000\n",
      "  645000  441000  640000  592000  524000  594000  545000  718000  537000\n",
      "  583000   22000  528000  642000  511000  527000  794000  587000  498000\n",
      "  549000  727000  591000  461000  430000  559000  599000  568000  596000\n",
      "  446000  565000  478000  516000  614000  705000  423000  622000   20000\n",
      "  576000  443000  601000  419000  709000  554000  434000   15000  567000\n",
      "  680000  624000  656000  457000  968000  708000  611000  519000  538000\n",
      "  422000  715000  707000  720000  802000  635000  721000   11000  573000\n",
      "  915000  791000  665000  426000 1200000  750000  685000  742000   17000\n",
      "  421000  765000  660000  632000  686000  672000  639000]\n",
      "loan_term  values:  [360 180 300 121 240 120 312 144 156 276 348 341 204 336 324 264  84 241\n",
      " 168 132 172 331  96 134 329 137 288 174 163 359 170 318 216 162  72 153\n",
      " 290 108 160  93 166 354 349 165 228  91 219 352 169 258 192 351 150 155\n",
      " 340 158 355 252 242 326 353 220 274 344  71  85  77 171 177 173 334  83\n",
      " 307 319 332  87 159  89 210 152 142 277 325 157 278 333  88 141 330 322\n",
      " 339  60 145 304 102 343 345  78 308 295 320 135 342 338 140 275 167 328\n",
      " 327 100  86 147 107 164  82 149 314 358 154 178 223 310 146 347 263 138\n",
      " 148  81 110 335 115 280 270  94 260 111 316 161 303 267]\n",
      "loan_to_value  values:  [95 72 49 46 80 62 76 90 55 70 65 56 50 44 75 85 73 58 77 32 74 47 79 20\n",
      " 33 67 30 38 40 43 35 68 52 60 54 53 69 57 78 88 48 39 63 92 29 94 59 89\n",
      " 87 61 31 42 84 64 97 36 66 93 82 25 86 26 27 71 23 96 28 45 21 24 11 51\n",
      " 37 41 19 91 22 34 83 18 12 16 17 15 14 13 81  6  7 10  8  9]\n",
      "number_of_borrowers  values:  [1 2]\n",
      "debt_to_income_ratio  values:  [22 44 33 43 46 45 35 41 42 39 37 32 29 10 19 31 34 36 16 21 40 38 28 23\n",
      " 48 24 25 15 49 17 30 18 27 47 26 20 50 12 14 13 11  9  8  6  7 56  3  5\n",
      "  4  1  2 52 51 61 58 53 55 64]\n",
      "borrower_credit_score  values:  [694 697 780 633 681 675 723 652 808 702 738 742 739 757 687 731 699 669\n",
      " 711 640 621 746 667 779 807 683 776 747 630 661 759 650 686 741 802 726\n",
      " 801 627 648 641 692 678 789 758 679 740 729 733 626 790 778 787 714 783\n",
      " 795 672 771 764 784 685 684 654 775 727 712 761 691 701 773 716 777 753\n",
      " 689 696 709 760 668 635 703 677 743 786 768 665 639 717 637 809 674 676\n",
      " 756 737 806 700 763 659 707 730 719 798 673 643 645 666 663 657 658 660\n",
      " 744 680 811 813 804 734 728 705 770 749 794 793 785 664 754 721 646 755\n",
      " 688 655 769 799 810 708 821 796 670 788 745 629 698 765 624 682 695 750\n",
      " 735 706 690 767 766 815 772 638 632 649 653 803 644 720 693 792 715 671\n",
      " 656 781 748 634 662 805 732 713 774 651 736 710 636 625 791 647 718 642\n",
      " 722 724 620 816 762 631 782 797 704 752 818 480 812 800   0 820 817 814\n",
      " 828 824 819 829 751 823 822 623 725 825 827 622 834 628 833 826 830 832\n",
      " 840 838 559 619 831]\n",
      "insurance_percent  values:  [30  0 25  6 12 35 22 16 18 15 17 40 20 39]\n",
      "co-borrower_credit_score  values:  [  0 638 700 770 813 658 742 736 729 625 753 759 722 680 732 780 787 766\n",
      " 702 785 788 697 731 685 738 699 760 668 656 671 726 781 660 718 693 808\n",
      " 666 648 696 804 703 704 694 777 728 687 674 644 801 727 786 657 756 774\n",
      " 768 795 775 715 716 810 761 806 749 802 637 772 765 667 767 714 633 698\n",
      " 776 798 707 659 744 683 800 809 675 670 792 673 720 711 807 689 750 754\n",
      " 725 789 799 663 752 672 745 665 763 684 796 635 793 782 695 764 647 721\n",
      " 712 740 779 664 723 628 812 790 762 719 817 640 805 677 690 771 661 713\n",
      " 686 730 645 755 773 784 797 803 739 814 819 791 815 794 751 778 820 816\n",
      " 758 811 743 821 757 783 746 682 706 769 747 642 733 701 832 709 708 735\n",
      " 748 737 724 710 692 824 705 688 734 818 823 825 717 678 826 636 822 676\n",
      " 622 741 669 691 641 650 649 631 681 621 624 651 829 655 662 639 646 830\n",
      " 679 643 654 623 653 827 620 627 652 632 828 634 626 630 831 834 629 836]\n",
      "insurance_type  values:  [0 1]\n",
      "m1  values:  [0 1 2 3]\n",
      "m2  values:  [0 1 2 3 4]\n",
      "m3  values:  [0 2 1 3 4 5]\n",
      "m4  values:  [0 3 1 2 4 5 6]\n",
      "m5  values:  [0 4 1 3 2 5 6 7]\n",
      "m6  values:  [0 5 1 2 4 3 6 7 8]\n",
      "m7  values:  [1 0 6 3 5 2 4 7 8 9]\n",
      "m8  values:  [ 0  7  1  4  6  2  5  3  9 10]\n",
      "m9  values:  [ 0  1  8  5  7  3  6  2 10  4 11]\n",
      "m10  values:  [ 0  1  9  2  6  8  4  3  7 11  5 12]\n",
      "m11  values:  [ 0  1 10  2  7  9  5  3  8  4  6 11 13]\n",
      "m12  values:  [ 0  1 11  2  8  3 10  6  9  5  4  7 14]\n",
      "m13  values:  [1 0]\n"
     ]
    }
   ],
   "source": [
    "# let's see the range of values the values in the numerical features - Exclude Loan id\n",
    "for col in num_features:\n",
    "    if col != 'loan_id': # loan id is not going to add any information\n",
    "        print(col, ' values: ', train_data[col].unique())"
   ]
  },
  {
   "cell_type": "code",
   "execution_count": 21,
   "metadata": {},
   "outputs": [
    {
     "name": "stdout",
     "output_type": "stream",
     "text": [
      "number_of_borrowers  values:  [1 2]\n",
      "insurance_percent  values:  [30  0 25  6 12 35 22 16 18 15 17 40 20 39]\n",
      "insurance_type  values:  [0 1]\n",
      "m1  values:  [0 1 2 3]\n",
      "m2  values:  [0 1 2 3 4]\n",
      "m3  values:  [0 2 1 3 4 5]\n",
      "m4  values:  [0 3 1 2 4 5 6]\n",
      "m5  values:  [0 4 1 3 2 5 6 7]\n",
      "m6  values:  [0 5 1 2 4 3 6 7 8]\n",
      "m7  values:  [1 0 6 3 5 2 4 7 8 9]\n",
      "m8  values:  [ 0  7  1  4  6  2  5  3  9 10]\n",
      "m9  values:  [ 0  1  8  5  7  3  6  2 10  4 11]\n",
      "m10  values:  [ 0  1  9  2  6  8  4  3  7 11  5 12]\n",
      "m11  values:  [ 0  1 10  2  7  9  5  3  8  4  6 11 13]\n",
      "m12  values:  [ 0  1 11  2  8  3 10  6  9  5  4  7 14]\n",
      "\n",
      "There are 15 discrete variables\n"
     ]
    }
   ],
   "source": [
    "# let's list the discrete numerical variables and their range of values\n",
    "discrete = []\n",
    "\n",
    "for col in num_features:\n",
    "    if len(train_data[col].unique())<20 and col != 'loan_id' and col!='m13':\n",
    "        print(col, ' values: ', train_data[col].unique())\n",
    "        discrete.append(col)\n",
    "print()\n",
    "print('There are {} discrete variables'.format(len(discrete)))"
   ]
  },
  {
   "cell_type": "code",
   "execution_count": 22,
   "metadata": {},
   "outputs": [
    {
     "name": "stdout",
     "output_type": "stream",
     "text": [
      "interest_rate\n",
      "unpaid_principal_bal\n",
      "loan_term\n",
      "loan_to_value\n",
      "debt_to_income_ratio\n",
      "borrower_credit_score\n",
      "co-borrower_credit_score\n",
      "\n",
      "There are 7 continuous variables\n"
     ]
    }
   ],
   "source": [
    "# let's list the continuous numerical variables \n",
    "continuous = []\n",
    "\n",
    "for col in num_features:\n",
    "    if col not in discrete and col != 'loan_id' and col!='m13':\n",
    "        print(col)\n",
    "        continuous.append(col)\n",
    "print()\n",
    "print('There are {} continuous variables'.format(len(continuous)))"
   ]
  },
  {
   "cell_type": "markdown",
   "metadata": {},
   "source": [
    "#### Training Dataset - summary of Features:\n",
    "\n",
    "- 3 Categorical features: 'source', 'financial_institution', 'loan_purpose' \n",
    "- 2 Temporal features (TBD - to be converted) : 'origination_date', 'first_payment_date'\n",
    "- 24 Numerical features: 15 discrete, 7 continuous, 1 Id, and 1 binary target('m13')"
   ]
  },
  {
   "cell_type": "markdown",
   "metadata": {},
   "source": [
    "#### Check for Missing Values"
   ]
  },
  {
   "cell_type": "markdown",
   "metadata": {},
   "source": [
    "#####  There are No Missing Values !!!!!\n",
    "- we have checked train_data.info() & train_data.info() - they don't contain null values"
   ]
  },
  {
   "cell_type": "markdown",
   "metadata": {},
   "source": [
    "#### Check for Outlier Values\n",
    "##### 1. Outliers in Continous Numerical  Features"
   ]
  },
  {
   "cell_type": "code",
   "execution_count": 23,
   "metadata": {},
   "outputs": [
    {
     "data": {
      "image/png": "[encoded data removed]",
      "text/plain": [
       "<Figure size 1080x432 with 2 Axes>"
      ]
     },
     "metadata": {
      "needs_background": "light"
     },
     "output_type": "display_data"
    },
    {
     "data": {
      "image/png": "[encoded data removed]",
      "text/plain": [
       "<Figure size 1080x432 with 2 Axes>"
      ]
     },
     "metadata": {
      "needs_background": "light"
     },
     "output_type": "display_data"
    },
    {
     "data": {
      "image/png": "[encoded data removed]",
      "text/plain": [
       "<Figure size 1080x432 with 2 Axes>"
      ]
     },
     "metadata": {
      "needs_background": "light"
     },
     "output_type": "display_data"
    },
    {
     "data": {
      "image/png": "[encoded data removed]",
      "text/plain": [
       "<Figure size 1080x432 with 2 Axes>"
      ]
     },
     "metadata": {
      "needs_background": "light"
     },
     "output_type": "display_data"
    },
    {
     "data": {
      "image/png": "[encoded data removed]",
      "text/plain": [
       "<Figure size 1080x432 with 2 Axes>"
      ]
     },
     "metadata": {
      "needs_background": "light"
     },
     "output_type": "display_data"
    },
    {
     "data": {
      "image/png": "[encoded data removed]",
      "text/plain": [
       "<Figure size 1080x432 with 2 Axes>"
      ]
     },
     "metadata": {
      "needs_background": "light"
     },
     "output_type": "display_data"
    },
    {
     "data": {
      "image/png": "[encoded data removed]",
      "text/plain": [
       "<Figure size 1080x432 with 2 Axes>"
      ]
     },
     "metadata": {
      "needs_background": "light"
     },
     "output_type": "display_data"
    }
   ],
   "source": [
    "# let's make boxplots to visualise outliers in the continuous features \n",
    "# and histograms to get an idea of the distribution\n",
    "\n",
    "for col in continuous:\n",
    "    plt.figure(figsize=(15,6))\n",
    "    plt.subplot(1, 2, 1)\n",
    "    fig = train_data.boxplot(column=col)\n",
    "    fig.set_title('')\n",
    "    fig.set_ylabel(col)\n",
    "    \n",
    "    plt.subplot(1, 2, 2)\n",
    "    fig = train_data[col].hist(bins=20)\n",
    "    fig.set_ylabel('Number of Loans')\n",
    "    fig.set_xlabel(col)\n",
    "\n",
    "    plt.show()"
   ]
  },
  {
   "cell_type": "code",
   "execution_count": 24,
   "metadata": {},
   "outputs": [
    {
     "data": {
      "text/html": [
       "<div>\n",
       "<style scoped>\n",
       "    .dataframe tbody tr th:only-of-type {\n",
       "        vertical-align: middle;\n",
       "    }\n",
       "\n",
       "    .dataframe tbody tr th {\n",
       "        vertical-align: top;\n",
       "    }\n",
       "\n",
       "    .dataframe thead th {\n",
       "        text-align: right;\n",
       "    }\n",
       "</style>\n",
       "<table border=\"1\" class=\"dataframe\">\n",
       "  <thead>\n",
       "    <tr style=\"text-align: right;\">\n",
       "      <th></th>\n",
       "      <th>interest_rate</th>\n",
       "      <th>unpaid_principal_bal</th>\n",
       "      <th>loan_term</th>\n",
       "      <th>loan_to_value</th>\n",
       "      <th>debt_to_income_ratio</th>\n",
       "      <th>borrower_credit_score</th>\n",
       "      <th>co-borrower_credit_score</th>\n",
       "    </tr>\n",
       "  </thead>\n",
       "  <tbody>\n",
       "    <tr>\n",
       "      <th>count</th>\n",
       "      <td>116058.000000</td>\n",
       "      <td>1.160580e+05</td>\n",
       "      <td>116058.000000</td>\n",
       "      <td>116058.000000</td>\n",
       "      <td>116058.000000</td>\n",
       "      <td>116058.000000</td>\n",
       "      <td>116058.000000</td>\n",
       "    </tr>\n",
       "    <tr>\n",
       "      <th>mean</th>\n",
       "      <td>3.868961</td>\n",
       "      <td>2.082262e+05</td>\n",
       "      <td>292.280997</td>\n",
       "      <td>67.431939</td>\n",
       "      <td>30.742293</td>\n",
       "      <td>769.926778</td>\n",
       "      <td>459.611565</td>\n",
       "    </tr>\n",
       "    <tr>\n",
       "      <th>std</th>\n",
       "      <td>0.461020</td>\n",
       "      <td>1.146851e+05</td>\n",
       "      <td>89.762415</td>\n",
       "      <td>17.291719</td>\n",
       "      <td>9.730798</td>\n",
       "      <td>42.210706</td>\n",
       "      <td>381.946926</td>\n",
       "    </tr>\n",
       "    <tr>\n",
       "      <th>min</th>\n",
       "      <td>2.250000</td>\n",
       "      <td>1.100000e+04</td>\n",
       "      <td>60.000000</td>\n",
       "      <td>6.000000</td>\n",
       "      <td>1.000000</td>\n",
       "      <td>0.000000</td>\n",
       "      <td>0.000000</td>\n",
       "    </tr>\n",
       "    <tr>\n",
       "      <th>25%</th>\n",
       "      <td>3.500000</td>\n",
       "      <td>1.200000e+05</td>\n",
       "      <td>180.000000</td>\n",
       "      <td>57.000000</td>\n",
       "      <td>23.000000</td>\n",
       "      <td>751.000000</td>\n",
       "      <td>0.000000</td>\n",
       "    </tr>\n",
       "    <tr>\n",
       "      <th>50%</th>\n",
       "      <td>3.875000</td>\n",
       "      <td>1.830000e+05</td>\n",
       "      <td>360.000000</td>\n",
       "      <td>72.000000</td>\n",
       "      <td>31.000000</td>\n",
       "      <td>782.000000</td>\n",
       "      <td>740.000000</td>\n",
       "    </tr>\n",
       "    <tr>\n",
       "      <th>75%</th>\n",
       "      <td>4.125000</td>\n",
       "      <td>2.780000e+05</td>\n",
       "      <td>360.000000</td>\n",
       "      <td>80.000000</td>\n",
       "      <td>39.000000</td>\n",
       "      <td>800.000000</td>\n",
       "      <td>791.000000</td>\n",
       "    </tr>\n",
       "    <tr>\n",
       "      <th>max</th>\n",
       "      <td>6.750000</td>\n",
       "      <td>1.200000e+06</td>\n",
       "      <td>360.000000</td>\n",
       "      <td>97.000000</td>\n",
       "      <td>64.000000</td>\n",
       "      <td>840.000000</td>\n",
       "      <td>836.000000</td>\n",
       "    </tr>\n",
       "  </tbody>\n",
       "</table>\n",
       "</div>"
      ],
      "text/plain": [
       "       interest_rate  unpaid_principal_bal      loan_term  loan_to_value  \\\n",
       "count  116058.000000          1.160580e+05  116058.000000  116058.000000   \n",
       "mean        3.868961          2.082262e+05     292.280997      67.431939   \n",
       "std         0.461020          1.146851e+05      89.762415      17.291719   \n",
       "min         2.250000          1.100000e+04      60.000000       6.000000   \n",
       "25%         3.500000          1.200000e+05     180.000000      57.000000   \n",
       "50%         3.875000          1.830000e+05     360.000000      72.000000   \n",
       "75%         4.125000          2.780000e+05     360.000000      80.000000   \n",
       "max         6.750000          1.200000e+06     360.000000      97.000000   \n",
       "\n",
       "       debt_to_income_ratio  borrower_credit_score  co-borrower_credit_score  \n",
       "count         116058.000000          116058.000000             116058.000000  \n",
       "mean              30.742293             769.926778                459.611565  \n",
       "std                9.730798              42.210706                381.946926  \n",
       "min                1.000000               0.000000                  0.000000  \n",
       "25%               23.000000             751.000000                  0.000000  \n",
       "50%               31.000000             782.000000                740.000000  \n",
       "75%               39.000000             800.000000                791.000000  \n",
       "max               64.000000             840.000000                836.000000  "
      ]
     },
     "execution_count": 24,
     "metadata": {},
     "output_type": "execute_result"
    }
   ],
   "source": [
    "train_data[continuous].describe()"
   ]
  },
  {
   "cell_type": "markdown",
   "metadata": {},
   "source": [
    "#### Observations:\n",
    "- None of the continous features seem to have a normal distribution.\n",
    "- Most features seem to have outliers\n",
    "- Need to re-engineer 'co-borrower_credit_score' column -skewed due to account for high count of '0' score in case of 1 borrower"
   ]
  },
  {
   "cell_type": "markdown",
   "metadata": {},
   "source": [
    "#### Outliers in  Discrete Numerical features\n",
    "\n",
    "Let's identify the outliers in discrete numerical features . Typically we call outliers only those values that are present in less than 1% of the Loans. However we need to be careful since this is a highly imbalanced data set and we do not want to rule out any point as outliers so easily.This is exactly the same as finding rare labels in categorical features. Discrete numerical features, in essence can be pre-processed / engineered as if they were categorical."
   ]
  },
  {
   "cell_type": "code",
   "execution_count": 25,
   "metadata": {},
   "outputs": [
    {
     "name": "stdout",
     "output_type": "stream",
     "text": [
      "2    0.593186\n",
      "1    0.406814\n",
      "Name: number_of_borrowers, dtype: float64\n",
      "\n",
      "0     0.882791\n",
      "30    0.044056\n",
      "25    0.042091\n",
      "12    0.021481\n",
      "6     0.006040\n",
      "35    0.003205\n",
      "16    0.000155\n",
      "18    0.000103\n",
      "20    0.000026\n",
      "17    0.000017\n",
      "40    0.000009\n",
      "39    0.000009\n",
      "22    0.000009\n",
      "15    0.000009\n",
      "Name: insurance_percent, dtype: float64\n",
      "\n",
      "0    0.996743\n",
      "1    0.003257\n",
      "Name: insurance_type, dtype: float64\n",
      "\n",
      "0    0.997165\n",
      "1    0.002525\n",
      "2    0.000258\n",
      "3    0.000052\n",
      "Name: m1, dtype: float64\n",
      "\n",
      "0    0.998156\n",
      "1    0.001689\n",
      "2    0.000112\n",
      "3    0.000026\n",
      "4    0.000017\n",
      "Name: m2, dtype: float64\n",
      "\n",
      "0    0.998363\n",
      "1    0.001439\n",
      "2    0.000121\n",
      "3    0.000034\n",
      "4    0.000026\n",
      "5    0.000017\n",
      "Name: m3, dtype: float64\n",
      "\n",
      "0    0.998294\n",
      "1    0.001448\n",
      "2    0.000138\n",
      "3    0.000069\n",
      "4    0.000026\n",
      "6    0.000017\n",
      "5    0.000009\n",
      "Name: m4, dtype: float64\n",
      "\n",
      "0    0.997363\n",
      "1    0.002145\n",
      "2    0.000284\n",
      "3    0.000103\n",
      "4    0.000052\n",
      "5    0.000026\n",
      "7    0.000017\n",
      "6    0.000009\n",
      "Name: m5, dtype: float64\n",
      "\n",
      "0    0.997648\n",
      "1    0.001844\n",
      "2    0.000224\n",
      "3    0.000138\n",
      "4    0.000078\n",
      "5    0.000034\n",
      "6    0.000017\n",
      "8    0.000009\n",
      "7    0.000009\n",
      "Name: m6, dtype: float64\n",
      "\n",
      "0    0.997157\n",
      "1    0.002292\n",
      "2    0.000241\n",
      "3    0.000112\n",
      "4    0.000069\n",
      "5    0.000060\n",
      "6    0.000034\n",
      "7    0.000017\n",
      "9    0.000009\n",
      "8    0.000009\n",
      "Name: m7, dtype: float64\n",
      "\n",
      "0     0.996881\n",
      "1     0.002361\n",
      "2     0.000422\n",
      "4     0.000086\n",
      "3     0.000086\n",
      "5     0.000060\n",
      "6     0.000052\n",
      "7     0.000034\n",
      "10    0.000009\n",
      "9     0.000009\n",
      "Name: m8, dtype: float64\n",
      "\n",
      "0     0.996803\n",
      "1     0.002352\n",
      "2     0.000353\n",
      "3     0.000215\n",
      "5     0.000069\n",
      "4     0.000060\n",
      "6     0.000052\n",
      "7     0.000043\n",
      "8     0.000034\n",
      "11    0.000009\n",
      "10    0.000009\n",
      "Name: m9, dtype: float64\n",
      "\n",
      "0     0.996166\n",
      "1     0.002800\n",
      "2     0.000465\n",
      "3     0.000181\n",
      "4     0.000129\n",
      "6     0.000069\n",
      "5     0.000052\n",
      "8     0.000043\n",
      "7     0.000043\n",
      "9     0.000034\n",
      "12    0.000009\n",
      "11    0.000009\n",
      "Name: m10, dtype: float64\n",
      "\n",
      "0     0.996157\n",
      "1     0.002757\n",
      "2     0.000414\n",
      "3     0.000224\n",
      "5     0.000103\n",
      "4     0.000095\n",
      "7     0.000078\n",
      "6     0.000060\n",
      "9     0.000034\n",
      "8     0.000034\n",
      "10    0.000026\n",
      "13    0.000009\n",
      "11    0.000009\n",
      "Name: m11, dtype: float64\n",
      "\n",
      "0     0.995683\n",
      "1     0.003154\n",
      "2     0.000405\n",
      "3     0.000241\n",
      "4     0.000129\n",
      "6     0.000121\n",
      "7     0.000060\n",
      "5     0.000060\n",
      "10    0.000043\n",
      "8     0.000043\n",
      "11    0.000026\n",
      "9     0.000026\n",
      "14    0.000009\n",
      "Name: m12, dtype: float64\n",
      "\n"
     ]
    }
   ],
   "source": [
    "for col in discrete:\n",
    "    print(train_data[col].value_counts(normalize=True)) #/ np.float(len(data)))\n",
    "    print()"
   ]
  },
  {
   "cell_type": "markdown",
   "metadata": {},
   "source": [
    "***Most of the discrete features show values that are shared by a tiny proportion of loans in the dataset. For linear models, this may not be a problem, but it most likely will be for tree methods.***"
   ]
  },
  {
   "cell_type": "markdown",
   "metadata": {},
   "source": [
    "#### Number of labels: cardinality\n",
    "\n",
    "Let's examine our categorical features. First let us determine whether they show high cardinality - a high number of labels."
   ]
  },
  {
   "cell_type": "code",
   "execution_count": 26,
   "metadata": {},
   "outputs": [
    {
     "name": "stdout",
     "output_type": "stream",
     "text": [
      "source  contains  3  labels\n",
      "financial_institution  contains  19  labels\n",
      "origination_date  contains  3  labels\n",
      "first_payment_date  contains  4  labels\n",
      "loan_purpose  contains  3  labels\n"
     ]
    }
   ],
   "source": [
    "for col in cat_features:\n",
    "    print(col, ' contains ', len(train_data[col].unique()), ' labels')"
   ]
  },
  {
   "cell_type": "markdown",
   "metadata": {},
   "source": [
    "- In general no categorical feature has a high cardinality - so Cardinality is NOT an issue\n",
    "- The temporal features 'origination_date' and 'first_payment_date' will have to be reengineered \n"
   ]
  },
  {
   "cell_type": "code",
   "execution_count": 27,
   "metadata": {},
   "outputs": [
    {
     "data": {
      "image/png": "[encoded data removed]",
      "text/plain": [
       "<Figure size 1440x1440 with 2 Axes>"
      ]
     },
     "metadata": {
      "needs_background": "light"
     },
     "output_type": "display_data"
    }
   ],
   "source": [
    "# Assess level of correlation \n",
    "data_corr= train_data.corr(method='pearson', min_periods=1)\n",
    "plt.figure(figsize=(20, 20))\n",
    "sns.heatmap(data_corr, annot=True, fmt=\".2f\");\n",
    "\n"
   ]
  },
  {
   "cell_type": "markdown",
   "metadata": {},
   "source": [
    "#### Splitting the dataset for training and testing the ML Model\n",
    "* In order to train our model and see how well it performs, we need to split our data into training and testing sets.\n",
    "* We can then train our model on the training set, and test how well it has generalised to the data on the test set.\n",
    "* There are a number of options for how we can split the data, and for what proportion of our original data we set aside for the test set."
   ]
  },
  {
   "cell_type": "code",
   "execution_count": 28,
   "metadata": {},
   "outputs": [],
   "source": [
    "Orig_train_data = train_data.copy()# Storing the copy of original training data\n",
    "Orig_test_data = test_data.copy()\n",
    "y = train_data['m13'] # Target Variable\n",
    "X = train_data.drop('m13',axis=1) "
   ]
  },
  {
   "cell_type": "code",
   "execution_count": 29,
   "metadata": {},
   "outputs": [],
   "source": [
    "# Because our classes are not absolutely equal in number, we can apply stratification to the split \n",
    "# and be sure that the ratio of the classes in both train and validation dataset will be the same \n",
    "\n",
    "X_train, X_valid, y_train, y_valid = train_test_split(X, y, test_size = 0.25, stratify = y, random_state=1)"
   ]
  },
  {
   "cell_type": "code",
   "execution_count": 30,
   "metadata": {},
   "outputs": [
    {
     "name": "stdout",
     "output_type": "stream",
     "text": [
      "(87043, 28) (29015, 28) (35866, 28)\n"
     ]
    }
   ],
   "source": [
    "print(X_train.shape,X_valid.shape,test_data.shape)"
   ]
  },
  {
   "cell_type": "markdown",
   "metadata": {},
   "source": [
    "### Perform Feature Engineering\n",
    "First, let's extract information from temporal variables.\n",
    "#### Temporal variables"
   ]
  },
  {
   "cell_type": "markdown",
   "metadata": {},
   "source": [
    "- The temporal features 'origination_date' and 'first_payment_date' will be reengineered\n",
    "- We can convert these to time and date data type and create a new feature 'NOD_fst_pay'\n",
    "- feature 'NOD_fst_pay' = number of days elapsed between 'origination_date' and 'first_payment_date\n",
    "- Also we can drop the two features origination_date' and 'first_payment_date from the data set since they don't add value"
   ]
  },
  {
   "cell_type": "code",
   "execution_count": 31,
   "metadata": {},
   "outputs": [],
   "source": [
    "X_train['orig_date'] = pd.to_datetime(X_train['origination_date'])\n",
    "X_train['fst_pay_date'] = pd.to_datetime(X_train['first_payment_date'])\n",
    "X_train['NOD_fst_pay'] = (X_train['fst_pay_date'] - X_train['orig_date']).dt.days # Number of days for first installment payment"
   ]
  },
  {
   "cell_type": "code",
   "execution_count": 32,
   "metadata": {},
   "outputs": [
    {
     "data": {
      "text/plain": [
       "60    71842\n",
       "61    10144\n",
       "91     1605\n",
       "31     1292\n",
       "90     1191\n",
       "29      969\n",
       "Name: NOD_fst_pay, dtype: int64"
      ]
     },
     "execution_count": 32,
     "metadata": {},
     "output_type": "execute_result"
    }
   ],
   "source": [
    "X_train.NOD_fst_pay.value_counts()"
   ]
  },
  {
   "cell_type": "code",
   "execution_count": 33,
   "metadata": {},
   "outputs": [],
   "source": [
    "# Looking above it makes sense to organize the NOD_fst_pay values in to 3 buckets - 30 , 60 and 90 by considering data \n",
    "# in first_payment_date column which has just 4 dates - 1st of Feb,March,April and May 2012\n",
    "\n",
    "X_train['NOD_fst_pay'].replace(to_replace = 31, value=30, inplace=True)\n",
    "X_train['NOD_fst_pay'].replace(to_replace = 29, value=30, inplace=True)\n",
    "X_train['NOD_fst_pay'].replace(to_replace = 61, value=60, inplace=True)\n",
    "X_train['NOD_fst_pay'].replace(to_replace = 91, value=90, inplace=True)"
   ]
  },
  {
   "cell_type": "code",
   "execution_count": 34,
   "metadata": {},
   "outputs": [
    {
     "data": {
      "text/plain": [
       "60    81986\n",
       "90     2796\n",
       "30     2261\n",
       "Name: NOD_fst_pay, dtype: int64"
      ]
     },
     "execution_count": 34,
     "metadata": {},
     "output_type": "execute_result"
    }
   ],
   "source": [
    "X_train.NOD_fst_pay.value_counts()"
   ]
  },
  {
   "cell_type": "code",
   "execution_count": 35,
   "metadata": {},
   "outputs": [],
   "source": [
    "# From training set ,Drop features - origination_date, orig_date,first_payment_date and fst_pay_date\n",
    "X_train.drop(['origination_date','orig_date','first_payment_date','fst_pay_date'], axis=1, inplace=True)"
   ]
  },
  {
   "cell_type": "code",
   "execution_count": 36,
   "metadata": {},
   "outputs": [],
   "source": [
    "X_train.drop('loan_id',axis=1,inplace=True) # The Loan Id does not help in prediction hence drop it"
   ]
  },
  {
   "cell_type": "markdown",
   "metadata": {},
   "source": [
    "- Repeat the above steps for Validation and Test dataset"
   ]
  },
  {
   "cell_type": "code",
   "execution_count": 37,
   "metadata": {},
   "outputs": [],
   "source": [
    "X_valid['orig_date'] = pd.to_datetime(X_valid['origination_date'])\n",
    "X_valid['fst_pay_date'] = pd.to_datetime(X_valid['first_payment_date'])\n",
    "X_valid['NOD_fst_pay'] = (X_valid['fst_pay_date'] - X_valid['orig_date']).dt.days # Number of days for first installment payment"
   ]
  },
  {
   "cell_type": "code",
   "execution_count": 38,
   "metadata": {},
   "outputs": [],
   "source": [
    "# Looking above it makes sense to organize the NOD_fst_pay values in to 3 buckets - 30 , 60 and 90 by considering data \n",
    "# in first_payment_date column which has just 4 dates - 1st of Feb,March,April and May 2012\n",
    "\n",
    "X_valid['NOD_fst_pay'].replace(to_replace = 31, value=30, inplace=True)\n",
    "X_valid['NOD_fst_pay'].replace(to_replace = 29, value=30, inplace=True)\n",
    "X_valid['NOD_fst_pay'].replace(to_replace = 61, value=60, inplace=True)\n",
    "X_valid['NOD_fst_pay'].replace(to_replace = 91, value=90, inplace=True)"
   ]
  },
  {
   "cell_type": "code",
   "execution_count": 39,
   "metadata": {},
   "outputs": [
    {
     "data": {
      "text/plain": [
       "60    27338\n",
       "90      945\n",
       "30      732\n",
       "Name: NOD_fst_pay, dtype: int64"
      ]
     },
     "execution_count": 39,
     "metadata": {},
     "output_type": "execute_result"
    }
   ],
   "source": [
    "X_valid.NOD_fst_pay.value_counts()"
   ]
  },
  {
   "cell_type": "code",
   "execution_count": 40,
   "metadata": {},
   "outputs": [],
   "source": [
    "# From training set ,Drop features - origination_date, orig_date,first_payment_date and fst_pay_date\n",
    "X_valid.drop(['origination_date','orig_date','first_payment_date','fst_pay_date'], axis=1, inplace=True)\n",
    "X_valid.drop('loan_id',axis=1,inplace=True) # The Loan Id does not help in prediction hence drop it"
   ]
  },
  {
   "cell_type": "markdown",
   "metadata": {},
   "source": [
    "- Now the test_data"
   ]
  },
  {
   "cell_type": "code",
   "execution_count": 41,
   "metadata": {},
   "outputs": [],
   "source": [
    "test_data['orig_date'] = pd.to_datetime(test_data['origination_date'],dayfirst=True)\n",
    "test_data['fst_pay_date'] = pd.to_datetime(test_data['first_payment_date'],format='%b-%y')\n",
    "test_data['NOD_fst_pay'] = (test_data['fst_pay_date'] - test_data['orig_date']).dt.days # Number of days for first installment payment"
   ]
  },
  {
   "cell_type": "code",
   "execution_count": 42,
   "metadata": {},
   "outputs": [],
   "source": [
    "# Looking above it makes sense to organize the NOD_fst_pay values in to 3 buckets - 30 , 60 and 90 by considering data \n",
    "# in first_payment_date column which has just 4 dates - 1st of Feb,March,April and May 2012\n",
    "\n",
    "test_data['NOD_fst_pay'].replace(to_replace = 31, value=30, inplace=True)\n",
    "test_data['NOD_fst_pay'].replace(to_replace = 29, value=30, inplace=True)\n",
    "test_data['NOD_fst_pay'].replace(to_replace = 61, value=60, inplace=True)\n",
    "test_data['NOD_fst_pay'].replace(to_replace = 91, value=90, inplace=True)"
   ]
  },
  {
   "cell_type": "code",
   "execution_count": 43,
   "metadata": {},
   "outputs": [],
   "source": [
    "# From training set ,Drop features - origination_date, orig_date,first_payment_date and fst_pay_date\n",
    "test_data.drop(['origination_date','orig_date','first_payment_date','fst_pay_date'], axis=1, inplace=True)\n",
    "test_data.drop('loan_id',axis=1,inplace=True) # The Loan Id does not help in prediction hence drop it"
   ]
  },
  {
   "cell_type": "code",
   "execution_count": 44,
   "metadata": {},
   "outputs": [],
   "source": [
    "# Now process train_data\n",
    "train_data['orig_date'] = pd.to_datetime(train_data['origination_date'],dayfirst=True)\n",
    "train_data['fst_pay_date'] = pd.to_datetime(train_data['first_payment_date'])\n",
    "train_data['NOD_fst_pay'] = (train_data['fst_pay_date'] - train_data['orig_date']).dt.days # Number of days for first installment payment\n",
    "\n",
    "train_data['NOD_fst_pay'].replace(to_replace = 31, value=30, inplace=True)\n",
    "train_data['NOD_fst_pay'].replace(to_replace = 29, value=30, inplace=True)\n",
    "train_data['NOD_fst_pay'].replace(to_replace = 61, value=60, inplace=True)\n",
    "train_data['NOD_fst_pay'].replace(to_replace = 91, value=90, inplace=True)\n",
    "\n",
    "train_data.drop(['origination_date','orig_date','first_payment_date','fst_pay_date'], axis=1, inplace=True)\n",
    "train_data.drop('loan_id',axis=1,inplace=True) # The Loan Id does not help in prediction hence drop it"
   ]
  },
  {
   "cell_type": "code",
   "execution_count": 45,
   "metadata": {},
   "outputs": [
    {
     "name": "stdout",
     "output_type": "stream",
     "text": [
      "26 26 26 27\n"
     ]
    }
   ],
   "source": [
    "print(len(test_data.columns),len(X_train.columns),len(X_valid.columns), len(train_data.columns))"
   ]
  },
  {
   "cell_type": "markdown",
   "metadata": {},
   "source": [
    "#### Numerical Features\n",
    "- The Co-borrower_score = 0 , if the number of borrowers = 1 since there are no co-borrowers. This influences the feature distrubution since the count is pretty significant and may impact prediction\n",
    "- Hence we will create a new feature that will have average of borrower and co-borrower scores where we have 2 borrowers. Then we will drop the two existing features- borrower score and co-borrower score. "
   ]
  },
  {
   "cell_type": "code",
   "execution_count": 46,
   "metadata": {},
   "outputs": [],
   "source": [
    "X_train['avg_credit_score'] = np.where(X_train['number_of_borrowers'] > 1,\n",
    "                                         (X_train['borrower_credit_score'] + X_train['co-borrower_credit_score'])/2,\n",
    "                                          X_train['borrower_credit_score'] )"
   ]
  },
  {
   "cell_type": "code",
   "execution_count": 47,
   "metadata": {},
   "outputs": [],
   "source": [
    "# Drop the 2 raw features for credit scores of borrower and co-borrower\n",
    "X_train.drop(['borrower_credit_score','co-borrower_credit_score'], axis=1,inplace=True)"
   ]
  },
  {
   "cell_type": "code",
   "execution_count": 48,
   "metadata": {},
   "outputs": [],
   "source": [
    "# Repeat on validation and test data\n",
    "X_valid['avg_credit_score'] = np.where(X_valid['number_of_borrowers'] > 1,\n",
    "                                         (X_valid['borrower_credit_score'] + X_valid['co-borrower_credit_score'])/2,\n",
    "                                          X_valid['borrower_credit_score'] )\n",
    "# Drop the 2 raw features for credit scores of borrower and co-borrower\n",
    "X_valid.drop(['borrower_credit_score','co-borrower_credit_score'], axis=1,inplace=True)"
   ]
  },
  {
   "cell_type": "code",
   "execution_count": 49,
   "metadata": {},
   "outputs": [],
   "source": [
    "test_data['avg_credit_score'] = np.where(test_data['number_of_borrowers'] > 1,\n",
    "                                         (test_data['borrower_credit_score'] + test_data['co-borrower_credit_score'])/2,\n",
    "                                          test_data['borrower_credit_score'] )\n",
    "# Drop the 2 raw features for credit scores of borrower and co-borrower\n",
    "test_data.drop(['borrower_credit_score','co-borrower_credit_score'], axis=1,inplace=True)"
   ]
  },
  {
   "cell_type": "code",
   "execution_count": 50,
   "metadata": {},
   "outputs": [],
   "source": [
    "# Repeat on training data\n",
    "train_data['avg_credit_score'] = np.where(train_data['number_of_borrowers'] > 1,\n",
    "                                         (train_data['borrower_credit_score'] + train_data['co-borrower_credit_score'])/2,\n",
    "                                          train_data['borrower_credit_score'] )\n",
    "# Drop the 2 raw features for credit scores of borrower and co-borrower\n",
    "train_data.drop(['borrower_credit_score','co-borrower_credit_score'], axis=1,inplace=True)"
   ]
  },
  {
   "cell_type": "markdown",
   "metadata": {},
   "source": [
    "####  Since we are using Tree-based models - not taking up oulier processing/feature scaling in the first pass "
   ]
  },
  {
   "cell_type": "markdown",
   "metadata": {},
   "source": [
    "#### Categorical Features encoding"
   ]
  },
  {
   "cell_type": "code",
   "execution_count": 51,
   "metadata": {},
   "outputs": [
    {
     "name": "stdout",
     "output_type": "stream",
     "text": [
      "There are 3 categorical features\n",
      "['source', 'financial_institution', 'loan_purpose']\n"
     ]
    }
   ],
   "source": [
    "# New Categorical Features\n",
    "cat_features_new = [col for col in X_train.columns if X_train[col].dtype=='object']\n",
    "print('There are {} categorical features'.format(len(cat_features_new)))\n",
    "print(cat_features_new)"
   ]
  },
  {
   "cell_type": "code",
   "execution_count": 52,
   "metadata": {},
   "outputs": [],
   "source": [
    "# Since this feature ranks very low in terms of importance as observed in plot\n",
    "# Drop Finanancial_institution col - Feature\n",
    "X_train.drop('financial_institution', axis=1, inplace=True)\n",
    "X_valid.drop('financial_institution', axis=1, inplace=True)\n",
    "test_data.drop('financial_institution', axis=1, inplace=True)\n",
    "train_data.drop('financial_institution', axis=1, inplace=True)"
   ]
  },
  {
   "cell_type": "code",
   "execution_count": 53,
   "metadata": {},
   "outputs": [],
   "source": [
    "X_train = pd.get_dummies(X_train,columns=['source','loan_purpose'], prefix=['src','lon_purp'])\n",
    "#X_train = pd.get_dummies(X_train,columns=['source','loan_purpose','financial_institution'], prefix=['src','lon_purp','fin_inst'])"
   ]
  },
  {
   "cell_type": "code",
   "execution_count": 54,
   "metadata": {},
   "outputs": [],
   "source": [
    "X_valid = pd.get_dummies(X_valid,columns=['source','loan_purpose'], prefix=['src','lon_purp'])\n",
    "#X_valid = pd.get_dummies(X_valid,columns=['source','loan_purpose','financial_institution'], prefix=['src','lon_purp','fin_inst'])"
   ]
  },
  {
   "cell_type": "code",
   "execution_count": 55,
   "metadata": {},
   "outputs": [],
   "source": [
    "test_data = pd.get_dummies(test_data,columns=['source','loan_purpose'], prefix=['src','lon_purp'])\n",
    "#test_data = pd.get_dummies(test_data,columns=['source','loan_purpose','financial_institution'], prefix=['src','lon_purp','fin_inst'])"
   ]
  },
  {
   "cell_type": "code",
   "execution_count": 56,
   "metadata": {},
   "outputs": [],
   "source": [
    "train_data = pd.get_dummies(train_data,columns=['source','loan_purpose'], prefix=['src','lon_purp'])\n",
    "#train_data = pd.get_dummies(train_data,columns=['source','loan_purpose','financial_institution'], prefix=['src','lon_purp','fin_inst'])"
   ]
  },
  {
   "cell_type": "code",
   "execution_count": 57,
   "metadata": {},
   "outputs": [],
   "source": [
    "y = train_data['m13']\n",
    "X = train_data.drop('m13',axis=1)"
   ]
  },
  {
   "cell_type": "markdown",
   "metadata": {},
   "source": [
    "### Build a pipeline for trying various sampling methods"
   ]
  },
  {
   "cell_type": "code",
   "execution_count": 58,
   "metadata": {},
   "outputs": [],
   "source": [
    "from sklearn import metrics \n",
    "from sklearn.metrics import classification_report\n",
    "from collections import Counter\n",
    "\n",
    "from imblearn.over_sampling import RandomOverSampler, SMOTE, ADASYN\n",
    "from imblearn.under_sampling import RandomUnderSampler, NearMiss, TomekLinks, EditedNearestNeighbours\n",
    "\n",
    "def model_resampling_pipeline(X_train, X_test, y_train, y_test, model):\n",
    "    \n",
    "    results = {'ordinary': {},\n",
    "               'class_weight': {},\n",
    "               'oversample': {},\n",
    "               'undersample': {}\n",
    "              }\n",
    "    \n",
    "    # ------ No balancing ------\n",
    "    model.fit(X_train, y_train)\n",
    "    predictions = model.predict(X_test)\n",
    "    accuracy = metrics.accuracy_score(y_test, predictions)\n",
    "    precision, recall, fscore, support = metrics.precision_recall_fscore_support(y_test, predictions)\n",
    "    f1 = metrics.f1_score(y_test,predictions)\n",
    "    tn, fp, fn, tp = metrics.confusion_matrix(y_test, predictions).ravel()\n",
    "    fpr, tpr, thresholds = metrics.roc_curve(y_test, predictions, pos_label=1)\n",
    "    auc = roc_auc_score(y_test, predictions)\n",
    "    #auc = metrics.auc(fpr, tpr)\n",
    "    \n",
    "    results['ordinary'] = {'accuracy': accuracy, 'precision': precision, 'recall': recall,\n",
    "                           'fscore': fscore,'n_occurences': support,\n",
    "                          'predictions_count': Counter(predictions),\n",
    "                          'tp': tp, 'tn': tn, 'fp': fp, 'fn': fn,\n",
    "                          'roc_auc': auc\n",
    "                          }\n",
    "    \n",
    "    \n",
    "    # --Use Class weight parameter (if available) in the estimator to account for imbalances--\n",
    "    if 'class_weight' in model.get_params().keys():\n",
    "        model.set_params(class_weight='balanced')\n",
    "        model.fit(X_train, y_train)\n",
    "        predictions = model.predict(X_test)\n",
    "        accuracy = metrics.accuracy_score(y_test, predictions)\n",
    "        precision, recall, fscore, support = metrics.precision_recall_fscore_support(y_test, predictions)\n",
    "        f1 = metrics.f1_score(y_test,predictions)\n",
    "        tn, fp, fn, tp = metrics.confusion_matrix(y_test, predictions).ravel()\n",
    "        fpr, tpr, thresholds = metrics.roc_curve(y_test, predictions, pos_label=1)\n",
    "        auc = roc_auc_score(y_test, predictions)\n",
    "        #auc = metrics.auc(fpr, tpr)\n",
    "\n",
    "        results['class_weight'] = {'accuracy': accuracy, 'precision': precision, 'recall': recall,\n",
    "                                   'fscore': fscore,'n_occurences': support,\n",
    "                                  'predictions_count': Counter(predictions),\n",
    "                                  'tp': tp, 'tn': tn, 'fp': fp, 'fn': fn,\n",
    "                                  'roc_auc': auc\n",
    "                                  }\n",
    "\n",
    "    \n",
    "    # ------------ OVERSAMPLING TECHNIQUES ------------\n",
    "    print('------ Oversampling methods ------')\n",
    "    techniques = [RandomOverSampler(),SMOTE(),ADASYN()]\n",
    "    #techniques = [RandomOverSampler(),\n",
    "    #              SMOTE(),\n",
    "    #              ADASYN()]\n",
    "    \n",
    "    for sampler in techniques:\n",
    "        technique = sampler.__class__.__name__\n",
    "        print(f'Technique: {technique}')\n",
    "        print(f'Before resampling: {sorted(Counter(y_train).items())}')\n",
    "        X_resampled, y_resampled = sampler.fit_sample(X_train, y_train)\n",
    "        print(f'After resampling: {sorted(Counter(y_resampled).items())}')\n",
    "\n",
    "        model.fit(X_resampled, y_resampled)\n",
    "        predictions = model.predict(X_test)\n",
    "        accuracy = metrics.accuracy_score(y_test, predictions)\n",
    "        precision, recall, fscore, support = metrics.precision_recall_fscore_support(y_test, predictions)\n",
    "        f1 = metrics.f1_score(y_test,predictions)\n",
    "        tn, fp, fn, tp = metrics.confusion_matrix(y_test, predictions).ravel()\n",
    "        fpr, tpr, thresholds = metrics.roc_curve(y_test, predictions, pos_label=1)\n",
    "        auc = roc_auc_score(y_test, predictions)\n",
    "        #auc = metrics.auc(fpr, tpr)\n",
    "\n",
    "        results['oversample'][technique] = {\n",
    "                                            'accuracy': accuracy, \n",
    "                                            'precision': precision, \n",
    "                                            'recall': recall,\n",
    "                                            'fscore': fscore,\n",
    "                                            'n_occurences': support,\n",
    "                                            'predictions_count': Counter(predictions),\n",
    "                                            'tp': tp, 'tn': tn, 'fp': fp, 'fn': fn,\n",
    "                                            'roc_auc': auc\n",
    "                                           }\n",
    "\n",
    "    \n",
    "    # ------------ UNDERSAMPLING TECHNIQUES ------------\n",
    "    print('------ Undersampling methods ------')\n",
    "    techniques = [RandomUnderSampler(),\n",
    "                  TomekLinks(),\n",
    "                 ]\n",
    "    \n",
    "    for sampler in techniques:\n",
    "        technique = sampler.__class__.__name__\n",
    "        if technique == 'NearMiss': technique+=str(sampler.version)\n",
    "        print(f'Technique: {technique}')\n",
    "        print(f'Before resampling: {sorted(Counter(y_train).items())}')\n",
    "        X_resampled, y_resampled = sampler.fit_sample(X_train, y_train)\n",
    "        print(f'After resampling: {sorted(Counter(y_resampled).items())}')\n",
    "\n",
    "        model.fit(X_resampled, y_resampled)\n",
    "        predictions = model.predict(X_test)\n",
    "        accuracy = metrics.accuracy_score(y_test, predictions)\n",
    "        precision, recall, fscore, support = metrics.precision_recall_fscore_support(y_test, predictions)\n",
    "        f1 = metrics.f1_score(y_test,predictions)\n",
    "        tn, fp, fn, tp = metrics.confusion_matrix(y_test, predictions).ravel()\n",
    "        fpr, tpr, thresholds = metrics.roc_curve(y_test, predictions, pos_label=1)\n",
    "        auc = roc_auc_score(y_test, predictions)\n",
    "        #auc = metrics.auc(fpr, tpr)\n",
    "\n",
    "        results['undersample'][technique] = {\n",
    "                                            'accuracy': accuracy, \n",
    "                                            'precision': precision, \n",
    "                                            'recall': recall,\n",
    "                                            'fscore': fscore, \n",
    "                                            'n_occurences': support,\n",
    "                                            'predictions_count': Counter(predictions),\n",
    "                                            'tp': tp, 'tn': tn, 'fp': fp, 'fn': fn,\n",
    "                                            'roc_auc': auc\n",
    "                                            \n",
    "                                            }\n",
    "    \n",
    "      \n",
    "    return results"
   ]
  },
  {
   "cell_type": "code",
   "execution_count": 75,
   "metadata": {},
   "outputs": [],
   "source": [
    "# Visualize the results\n",
    "def evaluate_method(results, method, metrics = ['precision', 'recall', 'fscore']):\n",
    "    \n",
    "    fig, ax = plt.subplots(1, 7, sharey=True, figsize=(16, 6))\n",
    "    \n",
    "    for i, metric in enumerate(metrics):\n",
    "        ax[i*2].axhline(results['ordinary'][metric][0], label='No Resampling')\n",
    "        ax[i*2+1].axhline(results['ordinary'][metric][1], label='No Resampling')\n",
    "        \n",
    "        if results['class_weight']:\n",
    "            ax[i*2].bar(0, results['class_weight'][metric][0], label='Adjust Class Weight')\n",
    "            ax[i*2+1].bar(0, results['class_weight'][metric][1], label='Adjust Class Weight')\n",
    "            \n",
    "        ax[0].legend(loc='upper center', bbox_to_anchor=(9, 1.01),\n",
    "                     ncol=1, fancybox=True, shadow=True)\n",
    "        \n",
    "        for j, (technique, result) in enumerate(results[method].items()):\n",
    "            ax[i*2].bar(j+1, result[metric][0], label=technique)\n",
    "            \n",
    "            ax[i*2+1].bar(j+1, result[metric][1], label=technique)\n",
    "        \n",
    "        \n",
    "        ax[i*2].set_title(f'No Default: \\n{metric}')\n",
    "        ax[i*2+1].set_title(f'Default: \\n{metric}')\n",
    "    \n",
    "    # AUC vis\n",
    "    ax[6].set_title(f'AUC - ROC')\n",
    "    ax[6].axhline(results['ordinary']['roc_auc'], label='No Resampling')\n",
    "    if results['class_weight']:\n",
    "        ax[6].bar(0, results['class_weight']['roc_auc'], label='Adjust Class Weight')\n",
    "    for j, (technique, result) in enumerate(results[method].items()):\n",
    "        ax[6].bar(j+1, result['roc_auc'], label=technique)\n",
    "    \n",
    "        "
   ]
  },
  {
   "cell_type": "markdown",
   "metadata": {},
   "source": [
    "### Model Training and Validation"
   ]
  },
  {
   "cell_type": "markdown",
   "metadata": {},
   "source": [
    "### Evaluate Tree based ensembling Algorithms"
   ]
  },
  {
   "cell_type": "code",
   "execution_count": 60,
   "metadata": {},
   "outputs": [],
   "source": [
    "## we can create a baseline model (without feature engineering)to benchmark against other estimators \n",
    "\n",
    "# this creates our Base-line classifier - DecisionTree, and the value we pass in to the strategy parameter dtermn\n",
    "base_clf = DecisionTreeClassifier(max_depth=4,random_state=1)\n",
    "\n",
    "# \"Train\" model\n",
    "base_clf.fit(X_train, y_train)\n",
    "\n",
    "# from this, we can generate a set of predictions on our unseen features, X_valid\n",
    "base_clf_predictions = base_clf.predict(X_valid)\n"
   ]
  },
  {
   "cell_type": "code",
   "execution_count": 61,
   "metadata": {},
   "outputs": [],
   "source": [
    "def evaluate(y_test, y_pred):\n",
    "    # this block of code returns all the metrics we are interested in \n",
    "    accuracy = accuracy_score(y_test, y_pred)\n",
    "    f1 = f1_score(y_test, y_pred)\n",
    "    auc = roc_auc_score(y_test, y_pred)\n",
    "\n",
    "    print (\"Accuracy:\", accuracy)\n",
    "    print ('F1 score: ', f1)\n",
    "    print ('ROC_AUC: ' , auc)\n"
   ]
  },
  {
   "cell_type": "code",
   "execution_count": 62,
   "metadata": {},
   "outputs": [
    {
     "name": "stdout",
     "output_type": "stream",
     "text": [
      "Accuracy: 0.9959676029639841\n",
      "F1 score:  0.4978540772532189\n",
      "ROC_AUC:  0.6821126984043954\n"
     ]
    }
   ],
   "source": [
    "evaluate(y_valid, base_clf_predictions) # Prediction performance"
   ]
  },
  {
   "cell_type": "code",
   "execution_count": null,
   "metadata": {},
   "outputs": [],
   "source": [
    "test_preds = pd.Series(base_clf.predict(test_data),name='m13')"
   ]
  },
  {
   "cell_type": "code",
   "execution_count": null,
   "metadata": {},
   "outputs": [],
   "source": [
    "df_submission = pd.concat([Orig_test_data.loan_id, test_preds],axis=1)"
   ]
  },
  {
   "cell_type": "code",
   "execution_count": null,
   "metadata": {},
   "outputs": [],
   "source": [
    "df_submission.to_csv('submission_DT.csv',index=False)"
   ]
  },
  {
   "cell_type": "markdown",
   "metadata": {},
   "source": [
    "#### Assessing Model Performance using Cross-validation"
   ]
  },
  {
   "cell_type": "code",
   "execution_count": 63,
   "metadata": {},
   "outputs": [],
   "source": [
    "f1 = make_scorer(f1_score)"
   ]
  },
  {
   "cell_type": "markdown",
   "metadata": {},
   "source": [
    "#### Random Forest"
   ]
  },
  {
   "cell_type": "code",
   "execution_count": 64,
   "metadata": {},
   "outputs": [
    {
     "data": {
      "text/plain": [
       "array([0.48387097, 0.40229885, 0.44565217, 0.49425287, 0.40909091])"
      ]
     },
     "execution_count": 64,
     "metadata": {},
     "output_type": "execute_result"
    }
   ],
   "source": [
    "# lets do this again with Random Forest\n",
    "# default parameters = n_estimators='warn',max_depth=None,max_features='auto'\n",
    "#rnd_clf = RandomForestClassifier(class_weight={1: 0.0045, 0: 0.9955},random_state=1)\n",
    "rnd_clf = RandomForestClassifier(random_state=1)\n",
    "# and pass that in \n",
    "cross_val_score(rnd_clf, X, y, cv=5, scoring=f1)"
   ]
  },
  {
   "cell_type": "code",
   "execution_count": 65,
   "metadata": {},
   "outputs": [
    {
     "name": "stdout",
     "output_type": "stream",
     "text": [
      "------ Oversampling methods ------\n",
      "Technique: RandomOverSampler\n",
      "Before resampling: [(0, 86566), (1, 477)]\n",
      "After resampling: [(0, 86566), (1, 86566)]\n",
      "Technique: SMOTE\n",
      "Before resampling: [(0, 86566), (1, 477)]\n",
      "After resampling: [(0, 86566), (1, 86566)]\n",
      "Technique: ADASYN\n",
      "Before resampling: [(0, 86566), (1, 477)]\n",
      "After resampling: [(0, 86566), (1, 86761)]\n",
      "------ Undersampling methods ------\n",
      "Technique: RandomUnderSampler\n",
      "Before resampling: [(0, 86566), (1, 477)]\n",
      "After resampling: [(0, 477), (1, 477)]\n",
      "Technique: TomekLinks\n",
      "Before resampling: [(0, 86566), (1, 477)]\n",
      "After resampling: [(0, 86351), (1, 477)]\n"
     ]
    }
   ],
   "source": [
    "resultsRF = model_resampling_pipeline(X_train, X_valid, y_train, y_valid, rnd_clf)"
   ]
  },
  {
   "cell_type": "code",
   "execution_count": 66,
   "metadata": {},
   "outputs": [
    {
     "data": {
      "image/png": "[encoded data removed]",
      "text/plain": [
       "<Figure size 1152x432 with 7 Axes>"
      ]
     },
     "metadata": {
      "needs_background": "light"
     },
     "output_type": "display_data"
    }
   ],
   "source": [
    "evaluate_method(resultsRF, 'oversample')"
   ]
  },
  {
   "cell_type": "code",
   "execution_count": 67,
   "metadata": {},
   "outputs": [
    {
     "data": {
      "image/png": "[encoded data removed]",
      "text/plain": [
       "<Figure size 1152x432 with 7 Axes>"
      ]
     },
     "metadata": {
      "needs_background": "light"
     },
     "output_type": "display_data"
    }
   ],
   "source": [
    "evaluate_method(resultsRF, 'undersample')"
   ]
  },
  {
   "cell_type": "markdown",
   "metadata": {},
   "source": [
    "#### XGBoost"
   ]
  },
  {
   "cell_type": "code",
   "execution_count": 68,
   "metadata": {},
   "outputs": [
    {
     "data": {
      "text/plain": [
       "array([0.54901961, 0.41935484, 0.4893617 , 0.55434783, 0.46067416])"
      ]
     },
     "execution_count": 68,
     "metadata": {},
     "output_type": "execute_result"
    }
   ],
   "source": [
    "xgb_model = XGBClassifier(random_state=1)\n",
    "cross_val_score(xgb_model, X, y, cv=5, scoring=f1)"
   ]
  },
  {
   "cell_type": "code",
   "execution_count": 176,
   "metadata": {},
   "outputs": [],
   "source": [
    "# Using oversampling for handling imbalances in class label values\n",
    "X_resampled, y_resampled = ADASYN().fit_sample(X_train, y_train)\n",
    "\n",
    "params_XGBClf = {\n",
    " 'learning_rate':0.1,\n",
    " 'n_estimators' :120,\n",
    " 'max_depth': 5,\n",
    " 'min_child_weight': 3,\n",
    " 'gamma': 0.2,\n",
    " 'subsample': 0.8,\n",
    " 'colsample_bytree': 0.8,\n",
    " 'objective': 'binary:logistic',\n",
    " 'scale_pos_weight':1,\n",
    " 'random_state':1\n",
    "}\n",
    "\n",
    "xgb_clf = XGBClassifier(learning_rate=0.07, n_estimators=120, max_depth=3,min_child_weight=3,\n",
    "                        gamma=0.2, subsample=0.8, colsample_bytree=0.8,\n",
    "                        objective='binary:logistic', random_state=1)\n",
    "xgb_clf.fit(X_resampled, y_resampled,eval_metric=f1)\n",
    "preds_xgb = xgb_clf.predict(X_valid.as_matrix())"
   ]
  },
  {
   "cell_type": "code",
   "execution_count": 177,
   "metadata": {},
   "outputs": [
    {
     "data": {
      "image/png": "[encoded data removed]",
      "text/plain": [
       "<Figure size 432x288 with 1 Axes>"
      ]
     },
     "metadata": {
      "needs_background": "light"
     },
     "output_type": "display_data"
    },
    {
     "name": "stdout",
     "output_type": "stream",
     "text": [
      "                Features  Importance\n",
      "19                   m12    0.234991\n",
      "25          lon_purp_A23    0.095435\n",
      "4    number_of_borrowers    0.093365\n",
      "22                 src_X    0.080038\n",
      "21      avg_credit_score    0.068697\n",
      "18                   m11    0.066985\n",
      "17                   m10    0.060634\n",
      "23                 src_Y    0.057483\n",
      "0          interest_rate    0.028286\n",
      "2              loan_term    0.025666\n",
      "27          lon_purp_C86    0.021840\n",
      "15                    m8    0.020587\n",
      "16                    m9    0.020090\n",
      "26          lon_purp_B12    0.019282\n",
      "24                 src_Z    0.019194\n",
      "12                    m5    0.015580\n",
      "11                    m4    0.013535\n",
      "6      insurance_percent    0.010594\n",
      "13                    m6    0.010523\n",
      "3          loan_to_value    0.010019\n",
      "10                    m3    0.006277\n",
      "5   debt_to_income_ratio    0.004676\n",
      "7         insurance_type    0.004345\n",
      "1   unpaid_principal_bal    0.003948\n",
      "8                     m1    0.003470\n",
      "14                    m7    0.003429\n",
      "20           NOD_fst_pay    0.001029\n",
      "9                     m2    0.000000\n",
      "['m12', 'lon_purp_A23', 'number_of_borrowers', 'src_X', 'avg_credit_score', 'm11', 'm10', 'src_Y', 'interest_rate', 'loan_term', 'lon_purp_C86', 'm8', 'm9', 'lon_purp_B12', 'src_Z', 'm5', 'm4', 'insurance_percent', 'm6', 'loan_to_value', 'm3', 'debt_to_income_ratio', 'insurance_type', 'unpaid_principal_bal', 'm1', 'm7', 'NOD_fst_pay', 'm2']\n"
     ]
    }
   ],
   "source": [
    "# Plot feature importance\n",
    "feat_imp = xgb_clf.feature_importances_\n",
    "feat = X_train.columns.tolist()\n",
    "res_df = pd.DataFrame({'Features': feat, 'Importance': feat_imp}).sort_values(by='Importance', ascending=False)\n",
    "res_df.plot('Features', 'Importance', kind='bar', title='Feature Importances')\n",
    "plt.ylabel('Feature Importance Score')\n",
    "plt.show()\n",
    "print(res_df)\n",
    "print(res_df[\"Features\"].tolist())\n"
   ]
  },
  {
   "cell_type": "code",
   "execution_count": 178,
   "metadata": {},
   "outputs": [
    {
     "name": "stdout",
     "output_type": "stream",
     "text": [
      "Accuracy: 0.9962088574875064\n",
      "F1 score:  0.6206896551724139\n",
      "ROC_AUC:  0.7823084437493134\n"
     ]
    }
   ],
   "source": [
    "evaluate(y_valid, preds_xgb)"
   ]
  },
  {
   "cell_type": "code",
   "execution_count": 179,
   "metadata": {},
   "outputs": [
    {
     "data": {
      "text/plain": [
       "array([0.38167939, 0.55319149, 0.54421769, 0.48529412, 0.40601504])"
      ]
     },
     "execution_count": 179,
     "metadata": {},
     "output_type": "execute_result"
    }
   ],
   "source": [
    "xgb_clf = XGBClassifier(learning_rate=0.07, n_estimators=120, max_depth=3,min_child_weight=3,\n",
    "                        gamma=0.2, subsample=0.8, colsample_bytree=0.8, \n",
    "                        objective='binary:logistic', random_state=1)\n",
    "cross_val_score(xgb_model, X_train, y_train, cv=5, scoring=f1)"
   ]
  },
  {
   "cell_type": "code",
   "execution_count": 72,
   "metadata": {},
   "outputs": [
    {
     "name": "stdout",
     "output_type": "stream",
     "text": [
      "------ Oversampling methods ------\n",
      "Technique: RandomOverSampler\n",
      "Before resampling: [(0, 86566), (1, 477)]\n",
      "After resampling: [(0, 86566), (1, 86566)]\n",
      "Technique: SMOTE\n",
      "Before resampling: [(0, 86566), (1, 477)]\n",
      "After resampling: [(0, 86566), (1, 86566)]\n",
      "Technique: ADASYN\n",
      "Before resampling: [(0, 86566), (1, 477)]\n",
      "After resampling: [(0, 86566), (1, 86761)]\n",
      "------ Undersampling methods ------\n",
      "Technique: RandomUnderSampler\n",
      "Before resampling: [(0, 86566), (1, 477)]\n",
      "After resampling: [(0, 477), (1, 477)]\n",
      "Technique: TomekLinks\n",
      "Before resampling: [(0, 86566), (1, 477)]\n",
      "After resampling: [(0, 86351), (1, 477)]\n"
     ]
    }
   ],
   "source": [
    "resultsXGB = model_resampling_pipeline(X_train.as_matrix(), X_valid.as_matrix(), y_train, y_valid, xgb_model)"
   ]
  },
  {
   "cell_type": "code",
   "execution_count": 73,
   "metadata": {},
   "outputs": [
    {
     "data": {
      "image/png": "[encoded data removed]",
      "text/plain": [
       "<Figure size 1152x432 with 7 Axes>"
      ]
     },
     "metadata": {
      "needs_background": "light"
     },
     "output_type": "display_data"
    }
   ],
   "source": [
    "evaluate_method(resultsXGB, 'oversample')"
   ]
  },
  {
   "cell_type": "code",
   "execution_count": 74,
   "metadata": {},
   "outputs": [
    {
     "data": {
      "image/png": "[encoded data removed]",
      "text/plain": [
       "<Figure size 1152x432 with 7 Axes>"
      ]
     },
     "metadata": {
      "needs_background": "light"
     },
     "output_type": "display_data"
    }
   ],
   "source": [
    "evaluate_method(resultsXGB, 'undersample')"
   ]
  },
  {
   "cell_type": "markdown",
   "metadata": {},
   "source": [
    "#### AdaBoost"
   ]
  },
  {
   "cell_type": "code",
   "execution_count": 76,
   "metadata": {},
   "outputs": [
    {
     "data": {
      "text/plain": [
       "array([0.54      , 0.44680851, 0.47311828, 0.57446809, 0.46486486])"
      ]
     },
     "execution_count": 76,
     "metadata": {},
     "output_type": "execute_result"
    }
   ],
   "source": [
    "adaboost_model = AdaBoostClassifier(random_state=1)\n",
    "cross_val_score(adaboost_model, X, y, cv=5, scoring=f1)"
   ]
  },
  {
   "cell_type": "code",
   "execution_count": 77,
   "metadata": {},
   "outputs": [
    {
     "name": "stdout",
     "output_type": "stream",
     "text": [
      "------ Oversampling methods ------\n",
      "Technique: RandomOverSampler\n",
      "Before resampling: [(0, 86566), (1, 477)]\n",
      "After resampling: [(0, 86566), (1, 86566)]\n",
      "Technique: SMOTE\n",
      "Before resampling: [(0, 86566), (1, 477)]\n",
      "After resampling: [(0, 86566), (1, 86566)]\n",
      "Technique: ADASYN\n",
      "Before resampling: [(0, 86566), (1, 477)]\n",
      "After resampling: [(0, 86566), (1, 86761)]\n",
      "------ Undersampling methods ------\n",
      "Technique: RandomUnderSampler\n",
      "Before resampling: [(0, 86566), (1, 477)]\n",
      "After resampling: [(0, 477), (1, 477)]\n",
      "Technique: TomekLinks\n",
      "Before resampling: [(0, 86566), (1, 477)]\n",
      "After resampling: [(0, 86351), (1, 477)]\n"
     ]
    }
   ],
   "source": [
    "resultsADB = model_resampling_pipeline(X_train, X_valid, y_train, y_valid, adaboost_model)"
   ]
  },
  {
   "cell_type": "code",
   "execution_count": 78,
   "metadata": {},
   "outputs": [
    {
     "data": {
      "image/png": "[encoded data removed]",
      "text/plain": [
       "<Figure size 1152x432 with 7 Axes>"
      ]
     },
     "metadata": {
      "needs_background": "light"
     },
     "output_type": "display_data"
    }
   ],
   "source": [
    "evaluate_method(resultsADB, 'oversample')"
   ]
  },
  {
   "cell_type": "code",
   "execution_count": 79,
   "metadata": {},
   "outputs": [
    {
     "data": {
      "image/png": "[encoded data removed]",
      "text/plain": [
       "<Figure size 1152x432 with 7 Axes>"
      ]
     },
     "metadata": {
      "needs_background": "light"
     },
     "output_type": "display_data"
    }
   ],
   "source": [
    "evaluate_method(resultsADB, 'undersample')"
   ]
  },
  {
   "cell_type": "markdown",
   "metadata": {},
   "source": [
    "#### Tune hyper parameters - Random Forest"
   ]
  },
  {
   "cell_type": "code",
   "execution_count": null,
   "metadata": {},
   "outputs": [],
   "source": [
    "from sklearn.model_selection import GridSearchCV , RandomizedSearchCV"
   ]
  },
  {
   "cell_type": "code",
   "execution_count": null,
   "metadata": {},
   "outputs": [],
   "source": [
    "# default parameters = n_estimators='warn',max_depth=None,max_features='auto'\n",
    "# we will optimise Random Forest \n",
    "rf_clf = RandomForestClassifier(class_weight={1: 0.004, 0: 0.996},random_state=1) # To do check for class_wieght params\n",
    "# we can create hyperparameters as a list, as in type regularization penalty \n",
    "rf_param_grid = {\"n_estimators\": [50,100,120],\n",
    "                 \"max_features\": [5,8,10]\n",
    "                } \n"
   ]
  },
  {
   "cell_type": "code",
   "execution_count": null,
   "metadata": {},
   "outputs": [],
   "source": [
    "# we instantiate our model\n",
    "rf_gridsearch = GridSearchCV(rf_clf,param_grid=rf_param_grid,scoring=f1,cv=5,verbose=0,n_jobs=-1,)"
   ]
  },
  {
   "cell_type": "code",
   "execution_count": null,
   "metadata": {},
   "outputs": [],
   "source": [
    "# and fit it to the data \n",
    "rf_best_model = rf_gridsearch.fit(X_train, y_train)"
   ]
  },
  {
   "cell_type": "code",
   "execution_count": null,
   "metadata": {},
   "outputs": [],
   "source": [
    "# from this, we can generate a set of predictions on our unseen features, X_test\n",
    "rf_best_preds = rf_best_model.predict(X_valid)"
   ]
  },
  {
   "cell_type": "code",
   "execution_count": null,
   "metadata": {},
   "outputs": [],
   "source": [
    "# and evaluate model performance \n",
    "evaluate(y_valid, rf_best_preds)"
   ]
  },
  {
   "cell_type": "code",
   "execution_count": null,
   "metadata": {},
   "outputs": [],
   "source": [
    "# and we can call this method to return the best parameters the search returned\n",
    "rf_best_model.best_estimator_"
   ]
  },
  {
   "cell_type": "code",
   "execution_count": null,
   "metadata": {},
   "outputs": [],
   "source": [
    "test_preds = pd.Series(rf_best_model.predict(test_data),name='m13')\n",
    "df_submission = pd.concat([Orig_test_data.loan_id, test_preds],axis=1)"
   ]
  },
  {
   "cell_type": "code",
   "execution_count": null,
   "metadata": {},
   "outputs": [],
   "source": [
    "df_submission.to_csv('submission_rf1.csv',index=False)"
   ]
  },
  {
   "cell_type": "markdown",
   "metadata": {},
   "source": [
    "####  Tune hyper parameters - XGBoost Classifier"
   ]
  },
  {
   "cell_type": "code",
   "execution_count": 80,
   "metadata": {},
   "outputs": [],
   "source": [
    "# Default parameter values:(max_depth=3,learning_rate=0.1,n_estimators=100,n_jobs=1,objective='binary:logistic')\n",
    "xgb_clf = xgb.XGBClassifier(random_state=1)\n",
    "xgb_param_grid = { \n",
    "                    \"n_estimators\"  : [100,120,150],\n",
    "                    \"max_depth\"    : [3,4],\n",
    "                    \"learning_rate\" : [0.07,0.08],\n",
    "                    \"subsample\"     : [0.7,0.8],\n",
    "                    \"colsample_bytree\":[0.8],\n",
    "                    \"min_child_weight\" : [3,4],\n",
    "                    \"gamma\"           : [0.2],\n",
    "                    \"objective\" : 'binary:logistic'\n",
    "                  \n",
    "                 }"
   ]
  },
  {
   "cell_type": "code",
   "execution_count": 81,
   "metadata": {},
   "outputs": [],
   "source": [
    "xgb_gridsearch = GridSearchCV(xgb_clf, param_grid=xgb_param_grid, cv=5, verbose=0, n_jobs=-1,scoring=f1)"
   ]
  },
  {
   "cell_type": "code",
   "execution_count": 82,
   "metadata": {},
   "outputs": [],
   "source": [
    "# Using oversampling for handling imbalances in class label values\n",
    "X_resampled, y_resampled = ADASYN().fit_sample(X_train, y_train)"
   ]
  },
  {
   "cell_type": "code",
   "execution_count": 83,
   "metadata": {},
   "outputs": [],
   "source": [
    "# and fit it to the data \n",
    "xgb_best_model = xgb_gridsearch.fit(X_resampled, y_resampled)"
   ]
  },
  {
   "cell_type": "code",
   "execution_count": 89,
   "metadata": {},
   "outputs": [
    {
     "data": {
      "image/png": "[encoded data removed]",
      "text/plain": [
       "<Figure size 432x648 with 1 Axes>"
      ]
     },
     "metadata": {
      "needs_background": "light"
     },
     "output_type": "display_data"
    }
   ],
   "source": [
    "fig, ax = plt.subplots(figsize=(6,9))\n",
    "xgb.plot_importance(xgb_best_model.best_estimator_,max_num_features=27, height=0.8,ax=ax)\n",
    "plt.show()"
   ]
  },
  {
   "cell_type": "code",
   "execution_count": 86,
   "metadata": {},
   "outputs": [],
   "source": [
    "# from this, we can generate a set of predictions on our unseen features, X_valid\n",
    "xgb_best_preds = xgb_best_model.predict(X_valid.as_matrix())"
   ]
  },
  {
   "cell_type": "code",
   "execution_count": 87,
   "metadata": {},
   "outputs": [
    {
     "name": "stdout",
     "output_type": "stream",
     "text": [
      "Accuracy: 0.9964845769429606\n",
      "F1 score:  0.5714285714285715\n",
      "ROC_AUC:  0.7136458763794369\n"
     ]
    }
   ],
   "source": [
    "# and evaluate model performance \n",
    "evaluate(y_valid, xgb_best_preds)"
   ]
  },
  {
   "cell_type": "code",
   "execution_count": 88,
   "metadata": {},
   "outputs": [
    {
     "data": {
      "text/plain": [
       "XGBClassifier(base_score=0.5, booster='gbtree', colsample_bylevel=1,\n",
       "       colsample_bynode=1, colsample_bytree=1, gamma=0, learning_rate=0.1,\n",
       "       max_delta_step=0, max_depth=4, min_child_weight=1, missing=None,\n",
       "       n_estimators=300, n_jobs=1, nthread=None,\n",
       "       objective='binary:logistic', random_state=1, reg_alpha=0,\n",
       "       reg_lambda=1, scale_pos_weight=1, seed=None, silent=None,\n",
       "       subsample=0.6, verbosity=1)"
      ]
     },
     "execution_count": 88,
     "metadata": {},
     "output_type": "execute_result"
    }
   ],
   "source": [
    "# and we can call this method to return the best parameters the search returned\n",
    "xgb_best_model.best_estimator_"
   ]
  },
  {
   "cell_type": "code",
   "execution_count": null,
   "metadata": {},
   "outputs": [],
   "source": [
    "test_preds = pd.Series(xgb_best_model.predict(test_data),name='m13')\n",
    "df_submission = pd.concat([Orig_test_data.loan_id, test_preds],axis=1)"
   ]
  },
  {
   "cell_type": "code",
   "execution_count": null,
   "metadata": {},
   "outputs": [],
   "source": [
    "df_submission.to_csv('submission_xgb1.csv',index=False)"
   ]
  },
  {
   "cell_type": "markdown",
   "metadata": {},
   "source": [
    "### Final Submission"
   ]
  },
  {
   "cell_type": "code",
   "execution_count": null,
   "metadata": {},
   "outputs": [],
   "source": [
    "test_preds = pd.Series(xgb_best_model.predict(test_data),name='m13')\n",
    "df_submission = pd.concat([Orig_test_data.loan_id, test_preds],axis=1)"
   ]
  },
  {
   "cell_type": "code",
   "execution_count": null,
   "metadata": {},
   "outputs": [],
   "source": [
    "df_submission.to_csv('submission_vt2.csv',index=False) "
   ]
  }
 ],
 "metadata": {
  "kernelspec": {
   "display_name": "Python 3",
   "language": "python",
   "name": "python3"
  },
  "language_info": {
   "codemirror_mode": {
    "name": "ipython",
    "version": 3
   },
   "file_extension": ".py",
   "mimetype": "text/x-python",
   "name": "python",
   "nbconvert_exporter": "python",
   "pygments_lexer": "ipython3",
   "version": "3.7.3"
  }
 },
 "nbformat": 4,
 "nbformat_minor": 2
}
